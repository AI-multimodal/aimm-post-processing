{
 "cells": [
  {
   "cell_type": "code",
   "execution_count": 1,
   "id": "c2347b3d-9feb-4cb2-b976-6b2717bfa4b7",
   "metadata": {
    "execution": {
     "iopub.execute_input": "2022-06-09T20:17:44.838827Z",
     "iopub.status.busy": "2022-06-09T20:17:44.838400Z",
     "iopub.status.idle": "2022-06-09T20:17:45.411873Z",
     "shell.execute_reply": "2022-06-09T20:17:45.411506Z",
     "shell.execute_reply.started": "2022-06-09T20:17:44.838754Z"
    },
    "tags": []
   },
   "outputs": [],
   "source": [
    "# from os import remove\n",
    "# from numpy import identity\n",
    "import tiled\n",
    "from tiled.client import from_uri\n",
    "from aimm_post_processing.operations import (\n",
    "    Pull,\n",
    "    Identity,\n",
    "    RemoveBackground, \n",
    "    StandardizeGrid,\n",
    ")\n",
    "from aimm_post_processing.pipeline import Pipeline\n",
    "\n",
    "%reload_ext autoreload\n",
    "%autoreload 1\n",
    "%aimport aimm_post_processing.pipeline\n",
    "%aimport aimm_post_processing.operations"
   ]
  },
  {
   "cell_type": "code",
   "execution_count": 2,
   "id": "7a31fe9b-eedf-44fb-8c1c-f0e679f035eb",
   "metadata": {
    "execution": {
     "iopub.execute_input": "2022-06-09T20:17:46.368359Z",
     "iopub.status.busy": "2022-06-09T20:17:46.368154Z",
     "iopub.status.idle": "2022-06-09T20:17:47.734884Z",
     "shell.execute_reply": "2022-06-09T20:17:47.734398Z",
     "shell.execute_reply.started": "2022-06-09T20:17:46.368337Z"
    },
    "tags": []
   },
   "outputs": [],
   "source": [
    "client = from_uri(\"https://aimm.lbl.gov/api\")\n",
    "view = client['dataset']['newville']['uid']['cCv65Ngs86N']"
   ]
  },
  {
   "cell_type": "markdown",
   "id": "6a89c9be-bbb0-443e-a1af-5ae12108ea47",
   "metadata": {},
   "source": [
    "# Operation Chains"
   ]
  },
  {
   "cell_type": "code",
   "execution_count": 3,
   "id": "4fb36f06-6f7c-48f4-ad15-5744e47e73e9",
   "metadata": {
    "execution": {
     "iopub.execute_input": "2022-06-09T20:17:49.221409Z",
     "iopub.status.busy": "2022-06-09T20:17:49.221274Z",
     "iopub.status.idle": "2022-06-09T20:17:49.225063Z",
     "shell.execute_reply": "2022-06-09T20:17:49.224610Z",
     "shell.execute_reply.started": "2022-06-09T20:17:49.221396Z"
    },
    "tags": []
   },
   "outputs": [],
   "source": [
    "pull = Pull()\n",
    "identity = Identity()\n",
    "standardizegrid = StandardizeGrid(\n",
    "    x0=15700, \n",
    "    xf=17000, \n",
    "    nx=1301,\n",
    "    x_column=\"energy\",\n",
    "    y_columns=[\"mutrans\", \"mufluor\", \"murefer\"]\n",
    ")\n",
    "removebackground = RemoveBackground(\n",
    "    x0=15700, \n",
    "    xf=15800, \n",
    "    x_column=\"energy\",\n",
    "    y_columns=[\"mutrans\", \"mufluor\", \"murefer\"],\n",
    "    victoreen_order=0\n",
    ")"
   ]
  },
  {
   "cell_type": "code",
   "execution_count": 4,
   "id": "028c2bec-d888-401c-a01b-2e24181b9d56",
   "metadata": {
    "execution": {
     "iopub.execute_input": "2022-06-09T20:17:50.995005Z",
     "iopub.status.busy": "2022-06-09T20:17:50.994771Z",
     "iopub.status.idle": "2022-06-09T20:17:50.998290Z",
     "shell.execute_reply": "2022-06-09T20:17:50.997795Z",
     "shell.execute_reply.started": "2022-06-09T20:17:50.994990Z"
    },
    "tags": []
   },
   "outputs": [],
   "source": [
    "pipe0 = Pipeline(\n",
    "    [\n",
    "        pull,\n",
    "        identity, \n",
    "        standardizegrid\n",
    "    ]\n",
    ")"
   ]
  },
  {
   "cell_type": "code",
   "execution_count": 5,
   "id": "c2c4df2e-ccf4-4404-84ea-a361ea28bf6b",
   "metadata": {
    "execution": {
     "iopub.execute_input": "2022-06-09T20:17:51.701118Z",
     "iopub.status.busy": "2022-06-09T20:17:51.700914Z",
     "iopub.status.idle": "2022-06-09T20:17:51.882282Z",
     "shell.execute_reply": "2022-06-09T20:17:51.881676Z",
     "shell.execute_reply.started": "2022-06-09T20:17:51.701097Z"
    },
    "tags": []
   },
   "outputs": [],
   "source": [
    "d = pipe0.run(view)"
   ]
  },
  {
   "cell_type": "code",
   "execution_count": 6,
   "id": "6b4f2dcd-3bf8-421f-a7be-3e32c89388ad",
   "metadata": {
    "execution": {
     "iopub.execute_input": "2022-06-09T20:17:52.104911Z",
     "iopub.status.busy": "2022-06-09T20:17:52.104648Z",
     "iopub.status.idle": "2022-06-09T20:17:52.115856Z",
     "shell.execute_reply": "2022-06-09T20:17:52.115495Z",
     "shell.execute_reply.started": "2022-06-09T20:17:52.104896Z"
    },
    "tags": []
   },
   "outputs": [
    {
     "data": {
      "text/html": [
       "<div>\n",
       "<style scoped>\n",
       "    .dataframe tbody tr th:only-of-type {\n",
       "        vertical-align: middle;\n",
       "    }\n",
       "\n",
       "    .dataframe tbody tr th {\n",
       "        vertical-align: top;\n",
       "    }\n",
       "\n",
       "    .dataframe thead th {\n",
       "        text-align: right;\n",
       "    }\n",
       "</style>\n",
       "<table border=\"1\" class=\"dataframe\">\n",
       "  <thead>\n",
       "    <tr style=\"text-align: right;\">\n",
       "      <th></th>\n",
       "      <th>energy</th>\n",
       "      <th>mutrans</th>\n",
       "      <th>mufluor</th>\n",
       "      <th>murefer</th>\n",
       "    </tr>\n",
       "  </thead>\n",
       "  <tbody>\n",
       "    <tr>\n",
       "      <th>0</th>\n",
       "      <td>15700.0</td>\n",
       "      <td>-1.626599</td>\n",
       "      <td>0.376400</td>\n",
       "      <td>1.077033</td>\n",
       "    </tr>\n",
       "    <tr>\n",
       "      <th>1</th>\n",
       "      <td>15701.0</td>\n",
       "      <td>-1.626841</td>\n",
       "      <td>0.376328</td>\n",
       "      <td>1.076917</td>\n",
       "    </tr>\n",
       "    <tr>\n",
       "      <th>2</th>\n",
       "      <td>15702.0</td>\n",
       "      <td>-1.627083</td>\n",
       "      <td>0.376208</td>\n",
       "      <td>1.076800</td>\n",
       "    </tr>\n",
       "    <tr>\n",
       "      <th>3</th>\n",
       "      <td>15703.0</td>\n",
       "      <td>-1.627327</td>\n",
       "      <td>0.376044</td>\n",
       "      <td>1.076681</td>\n",
       "    </tr>\n",
       "    <tr>\n",
       "      <th>4</th>\n",
       "      <td>15704.0</td>\n",
       "      <td>-1.627572</td>\n",
       "      <td>0.375838</td>\n",
       "      <td>1.076560</td>\n",
       "    </tr>\n",
       "    <tr>\n",
       "      <th>...</th>\n",
       "      <td>...</td>\n",
       "      <td>...</td>\n",
       "      <td>...</td>\n",
       "      <td>...</td>\n",
       "    </tr>\n",
       "    <tr>\n",
       "      <th>1296</th>\n",
       "      <td>16996.0</td>\n",
       "      <td>-1.112560</td>\n",
       "      <td>10.916710</td>\n",
       "      <td>1.003530</td>\n",
       "    </tr>\n",
       "    <tr>\n",
       "      <th>1297</th>\n",
       "      <td>16997.0</td>\n",
       "      <td>-1.112872</td>\n",
       "      <td>10.917510</td>\n",
       "      <td>1.003429</td>\n",
       "    </tr>\n",
       "    <tr>\n",
       "      <th>1298</th>\n",
       "      <td>16998.0</td>\n",
       "      <td>-1.113182</td>\n",
       "      <td>10.918465</td>\n",
       "      <td>1.003325</td>\n",
       "    </tr>\n",
       "    <tr>\n",
       "      <th>1299</th>\n",
       "      <td>16999.0</td>\n",
       "      <td>-1.113488</td>\n",
       "      <td>10.919619</td>\n",
       "      <td>1.003218</td>\n",
       "    </tr>\n",
       "    <tr>\n",
       "      <th>1300</th>\n",
       "      <td>17000.0</td>\n",
       "      <td>-1.113791</td>\n",
       "      <td>10.921015</td>\n",
       "      <td>1.003106</td>\n",
       "    </tr>\n",
       "  </tbody>\n",
       "</table>\n",
       "<p>1301 rows × 4 columns</p>\n",
       "</div>"
      ],
      "text/plain": [
       "       energy   mutrans    mufluor   murefer\n",
       "0     15700.0 -1.626599   0.376400  1.077033\n",
       "1     15701.0 -1.626841   0.376328  1.076917\n",
       "2     15702.0 -1.627083   0.376208  1.076800\n",
       "3     15703.0 -1.627327   0.376044  1.076681\n",
       "4     15704.0 -1.627572   0.375838  1.076560\n",
       "...       ...       ...        ...       ...\n",
       "1296  16996.0 -1.112560  10.916710  1.003530\n",
       "1297  16997.0 -1.112872  10.917510  1.003429\n",
       "1298  16998.0 -1.113182  10.918465  1.003325\n",
       "1299  16999.0 -1.113488  10.919619  1.003218\n",
       "1300  17000.0 -1.113791  10.921015  1.003106\n",
       "\n",
       "[1301 rows x 4 columns]"
      ]
     },
     "execution_count": 6,
     "metadata": {},
     "output_type": "execute_result"
    }
   ],
   "source": [
    "d[\"data\"]"
   ]
  },
  {
   "cell_type": "code",
   "execution_count": 7,
   "id": "1da2a85e-acf0-4243-af01-bd000d6c9547",
   "metadata": {
    "execution": {
     "iopub.execute_input": "2022-06-09T20:17:53.241825Z",
     "iopub.status.busy": "2022-06-09T20:17:53.241641Z",
     "iopub.status.idle": "2022-06-09T20:17:53.246702Z",
     "shell.execute_reply": "2022-06-09T20:17:53.246280Z",
     "shell.execute_reply.started": "2022-06-09T20:17:53.241807Z"
    },
    "tags": []
   },
   "outputs": [
    {
     "data": {
      "text/plain": [
       "{0: {'id': 'f924bcbc-b439-44df-8efe-a10e49ec04c4',\n",
       "  'parent': 'ekNDw7Dr8Ln',\n",
       "  'operator': {'@module': 'aimm_post_processing.operations',\n",
       "   '@class': 'Pull',\n",
       "   '@version': '0.post24.dev0+g044f3af'},\n",
       "  'datetime': '2022-06-09 20:17:51 UTC'},\n",
       " 1: {'id': 'ce5e4e46-78f6-4bcc-8b9e-85369100cb5f',\n",
       "  'parent': 'f924bcbc-b439-44df-8efe-a10e49ec04c4',\n",
       "  'operator': {'@module': 'aimm_post_processing.operations',\n",
       "   '@class': 'Identity',\n",
       "   '@version': '0.post24.dev0+g044f3af',\n",
       "   '__class__': aimm_post_processing.operations.Identity},\n",
       "  'datetime': '2022-06-09 20:17:51 UTC'},\n",
       " 2: {'id': 'dca45a33-b05a-46f9-88e0-172406414cc5',\n",
       "  'parent': 'ce5e4e46-78f6-4bcc-8b9e-85369100cb5f',\n",
       "  'operator': {'@module': 'aimm_post_processing.operations',\n",
       "   '@class': 'StandardizeGrid',\n",
       "   '@version': '0.post24.dev0+g044f3af',\n",
       "   'x0': 15700,\n",
       "   'xf': 17000,\n",
       "   'nx': 1301,\n",
       "   'interpolated_univariate_spline_kwargs': {},\n",
       "   'x_column': 'energy',\n",
       "   'y_columns': ['mutrans', 'mufluor', 'murefer'],\n",
       "   '__class__': aimm_post_processing.operations.StandardizeGrid},\n",
       "  'datetime': '2022-06-09 20:17:51 UTC'}}"
      ]
     },
     "execution_count": 7,
     "metadata": {},
     "output_type": "execute_result"
    }
   ],
   "source": [
    "d[\"metadata\"][\"post_processing\"]"
   ]
  },
  {
   "cell_type": "markdown",
   "id": "3d2c0957-534b-405f-945e-344ca47a0a6a",
   "metadata": {},
   "source": [
    "# Pipeline Chains"
   ]
  },
  {
   "cell_type": "code",
   "execution_count": 10,
   "id": "21f3d30f-8864-456c-9fb2-2de686ebd712",
   "metadata": {
    "execution": {
     "iopub.execute_input": "2022-06-09T20:19:57.417280Z",
     "iopub.status.busy": "2022-06-09T20:19:57.417079Z",
     "iopub.status.idle": "2022-06-09T20:19:57.421255Z",
     "shell.execute_reply": "2022-06-09T20:19:57.420764Z",
     "shell.execute_reply.started": "2022-06-09T20:19:57.417260Z"
    },
    "tags": []
   },
   "outputs": [],
   "source": [
    "pipe1 = Pipeline(\n",
    "    [\n",
    "        pull,\n",
    "        identity\n",
    "    ]\n",
    ")\n",
    "pipe2 = Pipeline(\n",
    "    [\n",
    "        standardizegrid, \n",
    "        removebackground\n",
    "    ]\n",
    ")\n",
    "pipe3 = pipe1 + pipe2"
   ]
  },
  {
   "cell_type": "code",
   "execution_count": 11,
   "id": "d13a2694-dadc-445d-b78a-604c3fab955a",
   "metadata": {
    "execution": {
     "iopub.execute_input": "2022-06-09T20:19:58.103594Z",
     "iopub.status.busy": "2022-06-09T20:19:58.103388Z",
     "iopub.status.idle": "2022-06-09T20:19:58.529586Z",
     "shell.execute_reply": "2022-06-09T20:19:58.528992Z",
     "shell.execute_reply.started": "2022-06-09T20:19:58.103572Z"
    },
    "tags": []
   },
   "outputs": [],
   "source": [
    "d = pipe3.run(view)"
   ]
  },
  {
   "cell_type": "code",
   "execution_count": 12,
   "id": "85b548bc-926d-4a02-954b-4ff5ff8c2b19",
   "metadata": {
    "execution": {
     "iopub.execute_input": "2022-06-09T20:20:02.515624Z",
     "iopub.status.busy": "2022-06-09T20:20:02.515422Z",
     "iopub.status.idle": "2022-06-09T20:20:02.526788Z",
     "shell.execute_reply": "2022-06-09T20:20:02.526358Z",
     "shell.execute_reply.started": "2022-06-09T20:20:02.515602Z"
    }
   },
   "outputs": [
    {
     "data": {
      "text/html": [
       "<div>\n",
       "<style scoped>\n",
       "    .dataframe tbody tr th:only-of-type {\n",
       "        vertical-align: middle;\n",
       "    }\n",
       "\n",
       "    .dataframe tbody tr th {\n",
       "        vertical-align: top;\n",
       "    }\n",
       "\n",
       "    .dataframe thead th {\n",
       "        text-align: right;\n",
       "    }\n",
       "</style>\n",
       "<table border=\"1\" class=\"dataframe\">\n",
       "  <thead>\n",
       "    <tr style=\"text-align: right;\">\n",
       "      <th></th>\n",
       "      <th>energy</th>\n",
       "      <th>mutrans</th>\n",
       "      <th>mufluor</th>\n",
       "      <th>murefer</th>\n",
       "    </tr>\n",
       "  </thead>\n",
       "  <tbody>\n",
       "    <tr>\n",
       "      <th>0</th>\n",
       "      <td>15700.0</td>\n",
       "      <td>-1.097941e-05</td>\n",
       "      <td>-0.001321</td>\n",
       "      <td>-0.000048</td>\n",
       "    </tr>\n",
       "    <tr>\n",
       "      <th>1</th>\n",
       "      <td>15701.0</td>\n",
       "      <td>-7.663115e-07</td>\n",
       "      <td>-0.001012</td>\n",
       "      <td>-0.000033</td>\n",
       "    </tr>\n",
       "    <tr>\n",
       "      <th>2</th>\n",
       "      <td>15702.0</td>\n",
       "      <td>8.234115e-06</td>\n",
       "      <td>-0.000751</td>\n",
       "      <td>-0.000019</td>\n",
       "    </tr>\n",
       "    <tr>\n",
       "      <th>3</th>\n",
       "      <td>15703.0</td>\n",
       "      <td>1.606518e-05</td>\n",
       "      <td>-0.000535</td>\n",
       "      <td>-0.000007</td>\n",
       "    </tr>\n",
       "    <tr>\n",
       "      <th>4</th>\n",
       "      <td>15704.0</td>\n",
       "      <td>2.277021e-05</td>\n",
       "      <td>-0.000361</td>\n",
       "      <td>0.000003</td>\n",
       "    </tr>\n",
       "    <tr>\n",
       "      <th>...</th>\n",
       "      <td>...</td>\n",
       "      <td>...</td>\n",
       "      <td>...</td>\n",
       "      <td>...</td>\n",
       "    </tr>\n",
       "    <tr>\n",
       "      <th>1296</th>\n",
       "      <td>16996.0</td>\n",
       "      <td>8.402271e-01</td>\n",
       "      <td>11.032296</td>\n",
       "      <td>0.096202</td>\n",
       "    </tr>\n",
       "    <tr>\n",
       "      <th>1297</th>\n",
       "      <td>16997.0</td>\n",
       "      <td>8.401665e-01</td>\n",
       "      <td>11.033476</td>\n",
       "      <td>0.096232</td>\n",
       "    </tr>\n",
       "    <tr>\n",
       "      <th>1298</th>\n",
       "      <td>16998.0</td>\n",
       "      <td>8.401085e-01</td>\n",
       "      <td>11.034812</td>\n",
       "      <td>0.096259</td>\n",
       "    </tr>\n",
       "    <tr>\n",
       "      <th>1299</th>\n",
       "      <td>16999.0</td>\n",
       "      <td>8.400537e-01</td>\n",
       "      <td>11.036346</td>\n",
       "      <td>0.096283</td>\n",
       "    </tr>\n",
       "    <tr>\n",
       "      <th>1300</th>\n",
       "      <td>17000.0</td>\n",
       "      <td>8.400029e-01</td>\n",
       "      <td>11.038123</td>\n",
       "      <td>0.096302</td>\n",
       "    </tr>\n",
       "  </tbody>\n",
       "</table>\n",
       "<p>1301 rows × 4 columns</p>\n",
       "</div>"
      ],
      "text/plain": [
       "       energy       mutrans    mufluor   murefer\n",
       "0     15700.0 -1.097941e-05  -0.001321 -0.000048\n",
       "1     15701.0 -7.663115e-07  -0.001012 -0.000033\n",
       "2     15702.0  8.234115e-06  -0.000751 -0.000019\n",
       "3     15703.0  1.606518e-05  -0.000535 -0.000007\n",
       "4     15704.0  2.277021e-05  -0.000361  0.000003\n",
       "...       ...           ...        ...       ...\n",
       "1296  16996.0  8.402271e-01  11.032296  0.096202\n",
       "1297  16997.0  8.401665e-01  11.033476  0.096232\n",
       "1298  16998.0  8.401085e-01  11.034812  0.096259\n",
       "1299  16999.0  8.400537e-01  11.036346  0.096283\n",
       "1300  17000.0  8.400029e-01  11.038123  0.096302\n",
       "\n",
       "[1301 rows x 4 columns]"
      ]
     },
     "execution_count": 12,
     "metadata": {},
     "output_type": "execute_result"
    }
   ],
   "source": [
    "d[\"data\"]"
   ]
  },
  {
   "cell_type": "code",
   "execution_count": 14,
   "id": "a03cf738-d796-4740-b88d-a3504f3582b8",
   "metadata": {
    "execution": {
     "iopub.execute_input": "2022-06-09T20:20:28.995726Z",
     "iopub.status.busy": "2022-06-09T20:20:28.995522Z",
     "iopub.status.idle": "2022-06-09T20:20:29.001883Z",
     "shell.execute_reply": "2022-06-09T20:20:29.001424Z",
     "shell.execute_reply.started": "2022-06-09T20:20:28.995704Z"
    },
    "tags": []
   },
   "outputs": [
    {
     "data": {
      "text/plain": [
       "{0: {'id': '75c19f27-cb09-4f41-b174-01c42cab3dd5',\n",
       "  'parent': 'ekNDw7Dr8Ln',\n",
       "  'operator': {'@module': 'aimm_post_processing.operations',\n",
       "   '@class': 'Pull',\n",
       "   '@version': '0.post24.dev0+g044f3af'},\n",
       "  'datetime': '2022-06-09 20:19:58 UTC'},\n",
       " 1: {'id': 'af3ee106-7721-434d-9f7e-bf39203ee700',\n",
       "  'parent': '75c19f27-cb09-4f41-b174-01c42cab3dd5',\n",
       "  'operator': {'@module': 'aimm_post_processing.operations',\n",
       "   '@class': 'Identity',\n",
       "   '@version': '0.post24.dev0+g044f3af',\n",
       "   '__class__': aimm_post_processing.operations.Identity},\n",
       "  'datetime': '2022-06-09 20:19:58 UTC'},\n",
       " 2: {'id': '146a1ee6-bd9f-42c8-883d-73ee078b9b3b',\n",
       "  'parent': 'af3ee106-7721-434d-9f7e-bf39203ee700',\n",
       "  'operator': {'@module': 'aimm_post_processing.operations',\n",
       "   '@class': 'StandardizeGrid',\n",
       "   '@version': '0.post24.dev0+g044f3af',\n",
       "   'x0': 15700,\n",
       "   'xf': 17000,\n",
       "   'nx': 1301,\n",
       "   'interpolated_univariate_spline_kwargs': {},\n",
       "   'x_column': 'energy',\n",
       "   'y_columns': ['mutrans', 'mufluor', 'murefer'],\n",
       "   '__class__': aimm_post_processing.operations.StandardizeGrid},\n",
       "  'datetime': '2022-06-09 20:19:58 UTC'},\n",
       " 3: {'id': '2dae44b6-07ad-4518-9321-edabc8caf605',\n",
       "  'parent': '146a1ee6-bd9f-42c8-883d-73ee078b9b3b',\n",
       "  'operator': {'@module': 'aimm_post_processing.operations',\n",
       "   '@class': 'RemoveBackground',\n",
       "   '@version': '0.post24.dev0+g044f3af',\n",
       "   'x0': 15700,\n",
       "   'xf': 15800,\n",
       "   'x_column': 'energy',\n",
       "   'y_columns': ['mutrans', 'mufluor', 'murefer'],\n",
       "   'victoreen_order': 0,\n",
       "   '__class__': aimm_post_processing.operations.RemoveBackground},\n",
       "  'datetime': '2022-06-09 20:19:58 UTC'}}"
      ]
     },
     "execution_count": 14,
     "metadata": {},
     "output_type": "execute_result"
    }
   ],
   "source": [
    "d[\"metadata\"][\"post_processing\"]"
   ]
  },
  {
   "cell_type": "code",
   "execution_count": null,
   "id": "8219a41a-2657-48e8-bb21-67302de575eb",
   "metadata": {},
   "outputs": [],
   "source": []
  }
 ],
 "metadata": {
  "kernelspec": {
   "display_name": "Python 3 (ipykernel)",
   "language": "python",
   "name": "python3"
  },
  "language_info": {
   "codemirror_mode": {
    "name": "ipython",
    "version": 3
   },
   "file_extension": ".py",
   "mimetype": "text/x-python",
   "name": "python",
   "nbconvert_exporter": "python",
   "pygments_lexer": "ipython3",
   "version": "3.9.11"
  }
 },
 "nbformat": 4,
 "nbformat_minor": 5
}
