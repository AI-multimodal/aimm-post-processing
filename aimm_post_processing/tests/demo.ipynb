{
 "cells": [
  {
   "cell_type": "markdown",
   "id": "c62dd131-a690-4610-9f56-84cb610cf317",
   "metadata": {
    "tags": []
   },
   "source": [
    "# AIMM post processing package\n",
    "To install the package, \n",
    "\n",
    "`git clone git@github.com:zhul9311/aimm-post-processing.git`\n",
    "\n",
    "In the package folder, run\n",
    "\n",
    " `python setup.py develop`"
   ]
  },
  {
   "cell_type": "markdown",
   "id": "f0926cbf-1729-4b82-b67b-49c4a6b20587",
   "metadata": {},
   "source": [
    "# Import modules and load data from TILED"
   ]
  },
  {
   "cell_type": "code",
   "execution_count": null,
   "id": "c2347b3d-9feb-4cb2-b976-6b2717bfa4b7",
   "metadata": {
    "tags": []
   },
   "outputs": [],
   "source": [
    "# from os import remove\n",
    "# from numpy import identity\n",
    "import sys\n",
    "import tiled\n",
    "from tiled.client import from_uri\n",
    "from aimm_post_processing.operations import (\n",
    "    Pull,\n",
    "    Identity,\n",
    "    RemoveBackground, \n",
    "    StandardizeGrid,\n",
    "    StandardizeIntensity\n",
    ")\n",
    "from aimm_post_processing.pipeline import Pipeline\n",
    "\n",
    "# %reload_ext autoreload\n",
    "# %autoreload 1\n",
    "# %aimport aimm_post_processing.pipeline\n",
    "# %aimport aimm_post_processing.operations\n",
    "# %aimport isstools.xasproject.xasproject"
   ]
  },
  {
   "cell_type": "code",
   "execution_count": 100,
   "id": "7a31fe9b-eedf-44fb-8c1c-f0e679f035eb",
   "metadata": {
    "execution": {
     "iopub.execute_input": "2022-08-05T17:53:43.908333Z",
     "iopub.status.busy": "2022-08-05T17:53:43.907998Z",
     "iopub.status.idle": "2022-08-05T17:53:44.814281Z",
     "shell.execute_reply": "2022-08-05T17:53:44.813689Z",
     "shell.execute_reply.started": "2022-08-05T17:53:43.908310Z"
    },
    "tags": []
   },
   "outputs": [],
   "source": [
    "client = from_uri(\"https://aimm.lbl.gov/api\")\n",
    "view = client['dataset']['newville']['uid'][\"tFrGpD3A8BX\"]"
   ]
  },
  {
   "cell_type": "code",
   "execution_count": null,
   "id": "9d893894-56fa-43b5-a1b6-015f60a683e7",
   "metadata": {
    "tags": []
   },
   "outputs": [],
   "source": [
    "# This data is SrCO3 K-edge on Sr\n",
    "view.metadata"
   ]
  },
  {
   "cell_type": "markdown",
   "id": "6a89c9be-bbb0-443e-a1af-5ae12108ea47",
   "metadata": {
    "tags": []
   },
   "source": [
    "# Operation Chain (Pipeline)"
   ]
  },
  {
   "cell_type": "code",
   "execution_count": 111,
   "id": "4fb36f06-6f7c-48f4-ad15-5744e47e73e9",
   "metadata": {
    "execution": {
     "iopub.execute_input": "2022-08-05T17:55:38.124943Z",
     "iopub.status.busy": "2022-08-05T17:55:38.124605Z",
     "iopub.status.idle": "2022-08-05T17:55:38.130516Z",
     "shell.execute_reply": "2022-08-05T17:55:38.130018Z",
     "shell.execute_reply.started": "2022-08-05T17:55:38.124920Z"
    },
    "tags": []
   },
   "outputs": [],
   "source": [
    "pull = Pull()\n",
    "identity = Identity()\n",
    "standardizegrid = StandardizeGrid(\n",
    "    x0=15700, \n",
    "    xf=17000, \n",
    "    nx=1301,\n",
    "    x_column=\"energy\",\n",
    "    y_columns=[\"mutrans\", \"mufluor\", \"murefer\"]\n",
    ")\n",
    "removebackground = RemoveBackground(\n",
    "    x0=15700, \n",
    "    xf=15800, \n",
    "    x_column=\"energy\",\n",
    "    y_columns=[\"mutrans\", \"mufluor\", \"murefer\"],\n",
    "    victoreen_order=0\n",
    ")\n",
    "standardizeintensity = StandardizeIntensity(\n",
    "    x0=15700,\n",
    "    xf=15800,\n",
    "    x_column=\"energy\",\n",
    "    y_columns=[\"mutrans\", \"mufluor\", \"murefer\"]\n",
    ")"
   ]
  },
  {
   "cell_type": "code",
   "execution_count": 112,
   "id": "028c2bec-d888-401c-a01b-2e24181b9d56",
   "metadata": {
    "execution": {
     "iopub.execute_input": "2022-08-05T17:55:39.142889Z",
     "iopub.status.busy": "2022-08-05T17:55:39.142551Z",
     "iopub.status.idle": "2022-08-05T17:55:39.146633Z",
     "shell.execute_reply": "2022-08-05T17:55:39.146010Z",
     "shell.execute_reply.started": "2022-08-05T17:55:39.142866Z"
    },
    "tags": []
   },
   "outputs": [],
   "source": [
    "pipe0 = Pipeline(\n",
    "    [\n",
    "        pull,\n",
    "        standardizegrid,\n",
    "        removebackground\n",
    "    ]\n",
    ")"
   ]
  },
  {
   "cell_type": "code",
   "execution_count": 113,
   "id": "c2c4df2e-ccf4-4404-84ea-a361ea28bf6b",
   "metadata": {
    "execution": {
     "iopub.execute_input": "2022-08-05T17:55:39.328693Z",
     "iopub.status.busy": "2022-08-05T17:55:39.328356Z",
     "iopub.status.idle": "2022-08-05T17:55:39.769008Z",
     "shell.execute_reply": "2022-08-05T17:55:39.768467Z",
     "shell.execute_reply.started": "2022-08-05T17:55:39.328669Z"
    },
    "tags": []
   },
   "outputs": [],
   "source": [
    "d = pipe0.run(view)"
   ]
  },
  {
   "cell_type": "code",
   "execution_count": null,
   "id": "6b4f2dcd-3bf8-421f-a7be-3e32c89388ad",
   "metadata": {
    "tags": []
   },
   "outputs": [],
   "source": [
    "d[\"data\"].plot(x=\"energy\", y=[\"mutrans\", \"mufluor\", \"murefer\"])"
   ]
  },
  {
   "cell_type": "code",
   "execution_count": null,
   "id": "e4e6187c-cd0e-4824-9dea-72e79c6c5760",
   "metadata": {
    "tags": []
   },
   "outputs": [],
   "source": [
    "d[\"metadata\"][\"post_processing\"]"
   ]
  },
  {
   "cell_type": "markdown",
   "id": "df7638dc-f57c-41e8-baec-e2edae9c04aa",
   "metadata": {},
   "source": [
    "# Another example of Pipeline"
   ]
  },
  {
   "cell_type": "code",
   "execution_count": 118,
   "id": "1da2a85e-acf0-4243-af01-bd000d6c9547",
   "metadata": {
    "execution": {
     "iopub.execute_input": "2022-08-05T17:57:14.481832Z",
     "iopub.status.busy": "2022-08-05T17:57:14.481486Z",
     "iopub.status.idle": "2022-08-05T17:57:14.485715Z",
     "shell.execute_reply": "2022-08-05T17:57:14.485176Z",
     "shell.execute_reply.started": "2022-08-05T17:57:14.481793Z"
    },
    "tags": []
   },
   "outputs": [],
   "source": [
    "pipe1 = Pipeline(\n",
    "    [\n",
    "        identity,\n",
    "        standardizegrid,\n",
    "        standardizeintensity\n",
    "    ]\n",
    ")"
   ]
  },
  {
   "cell_type": "code",
   "execution_count": 119,
   "id": "6d4c5fd5-c4c8-4f4a-ada7-1621ca72c96e",
   "metadata": {
    "execution": {
     "iopub.execute_input": "2022-08-05T17:57:15.900829Z",
     "iopub.status.busy": "2022-08-05T17:57:15.900497Z",
     "iopub.status.idle": "2022-08-05T17:57:15.910483Z",
     "shell.execute_reply": "2022-08-05T17:57:15.909972Z",
     "shell.execute_reply.started": "2022-08-05T17:57:15.900806Z"
    },
    "tags": []
   },
   "outputs": [],
   "source": [
    "d = pipe1.run(d)"
   ]
  },
  {
   "cell_type": "code",
   "execution_count": null,
   "id": "bd1d48cc-46a7-45ce-9a31-3459bec23e3d",
   "metadata": {
    "tags": []
   },
   "outputs": [],
   "source": [
    "d[\"data\"].plot(x=\"energy\", y=[\"mutrans\", \"mufluor\", \"murefer\"])"
   ]
  },
  {
   "cell_type": "code",
   "execution_count": null,
   "id": "d6156bd7-4b4f-486e-91e6-3abc6337c2e2",
   "metadata": {
    "tags": []
   },
   "outputs": [],
   "source": [
    "d[\"metadata\"][\"post_processing\"]"
   ]
  },
  {
   "cell_type": "markdown",
   "id": "3d2c0957-534b-405f-945e-344ca47a0a6a",
   "metadata": {},
   "source": [
    "# Pipeline concatenation"
   ]
  },
  {
   "cell_type": "code",
   "execution_count": 122,
   "id": "21f3d30f-8864-456c-9fb2-2de686ebd712",
   "metadata": {
    "execution": {
     "iopub.execute_input": "2022-08-05T17:58:11.915758Z",
     "iopub.status.busy": "2022-08-05T17:58:11.915422Z",
     "iopub.status.idle": "2022-08-05T17:58:11.919910Z",
     "shell.execute_reply": "2022-08-05T17:58:11.919380Z",
     "shell.execute_reply.started": "2022-08-05T17:58:11.915735Z"
    },
    "tags": []
   },
   "outputs": [],
   "source": [
    "pipe2 = Pipeline(\n",
    "    [\n",
    "        pull,\n",
    "        standardizegrid,\n",
    "    ]\n",
    ")\n",
    "pipe3 = Pipeline(\n",
    "    [\n",
    "        removebackground,\n",
    "        standardizeintensity\n",
    "    ]\n",
    ")\n",
    "pipe4 = pipe2 + pipe3"
   ]
  },
  {
   "cell_type": "code",
   "execution_count": 123,
   "id": "d13a2694-dadc-445d-b78a-604c3fab955a",
   "metadata": {
    "execution": {
     "iopub.execute_input": "2022-08-05T17:58:12.599279Z",
     "iopub.status.busy": "2022-08-05T17:58:12.598944Z",
     "iopub.status.idle": "2022-08-05T17:58:13.017493Z",
     "shell.execute_reply": "2022-08-05T17:58:13.016885Z",
     "shell.execute_reply.started": "2022-08-05T17:58:12.599256Z"
    },
    "tags": []
   },
   "outputs": [],
   "source": [
    "d = pipe4.run(view)"
   ]
  },
  {
   "cell_type": "code",
   "execution_count": null,
   "id": "85b548bc-926d-4a02-954b-4ff5ff8c2b19",
   "metadata": {
    "tags": []
   },
   "outputs": [],
   "source": [
    "d[\"data\"].plot(x=\"energy\", y=[\"mutrans\", \"mufluor\", \"murefer\"])"
   ]
  },
  {
   "cell_type": "code",
   "execution_count": null,
   "id": "a03cf738-d796-4740-b88d-a3504f3582b8",
   "metadata": {
    "tags": []
   },
   "outputs": [],
   "source": [
    "d[\"metadata\"][\"post_processing\"]"
   ]
  },
  {
   "cell_type": "markdown",
   "id": "e5063208-f501-4e01-91fe-d7ccd38ac10d",
   "metadata": {},
   "source": [
    "# User-defined operator"
   ]
  },
  {
   "cell_type": "code",
   "execution_count": 126,
   "id": "aed55006-d1cf-4f9a-82de-b3723c8426ef",
   "metadata": {
    "execution": {
     "iopub.execute_input": "2022-08-05T17:58:21.125939Z",
     "iopub.status.busy": "2022-08-05T17:58:21.125633Z",
     "iopub.status.idle": "2022-08-05T17:58:21.133351Z",
     "shell.execute_reply": "2022-08-05T17:58:21.132682Z",
     "shell.execute_reply.started": "2022-08-05T17:58:21.125914Z"
    },
    "tags": []
   },
   "outputs": [],
   "source": [
    "# All operators are defined based on Operator class\n",
    "from aimm_post_processing.operations import Operator\n",
    "\n",
    "\n",
    "### The template for creating user-defined operator ### \n",
    "class MyOperator(Operator):\n",
    "    # Replace `MyOperaor` with your favorate name.\n",
    "    def __init__(self, *args, **kwargs):\n",
    "        super().__init__(*args, **kwargs) \n",
    "        # *args and **kwargs are user defined parameters needed for the operator.\n",
    "        # all extra args and kwargs must also defined as local attributes if you want\n",
    "        # to use them in `_process_data` function.\n",
    "        # E.g. If you have __init__(self, x, y=5, x_column=\"energy\", y_columns=[\"mu\"])\n",
    "        #      in definition, you must also have self.x = x and self.y = y\n",
    "        #      \"x_column\" and \"y_columns\" ar already implemented automatically, so you\n",
    "        #.     don't need to worry about them.\n",
    "\n",
    "    def _process_data(self, df):\n",
    "        \"\"\"\n",
    "        Parameters\n",
    "        ----------\n",
    "        df : pandas.DataFrame\n",
    "            The dataframe that has columns such as \"energy\", \"mu\", etc.\n",
    "\n",
    "        Returns\n",
    "        -------\n",
    "        df : pandas.DataFrame\n",
    "            Processed dataframe\n",
    "        \"\"\"\n",
    "        ### Write your code here ###\n",
    "        \n",
    "        new_df = df # this line is to be replaced\n",
    "        \n",
    "        return new_df\n",
    "\n",
    "\n",
    "### An example implementation ###\n",
    "\n",
    "class Shift(Operator):\n",
    "    \"\"\"This example shifts the energy grid by x\n",
    "    \"\"\"\n",
    "    def __init__(self, x, x_column=\"energy\", y_columns=[\"mu\"]):\n",
    "        super().__init__(x_column, y_columns)\n",
    "        self.x = x # must have this line.\n",
    "        \n",
    "    def _process_data(self, df):\n",
    "        shift = self.x\n",
    "        energy_grid = df[self.x_column]\n",
    "        df[self.x_column] = energy_grid + shift\n",
    "        return df"
   ]
  },
  {
   "cell_type": "code",
   "execution_count": 128,
   "id": "d448fea2-f386-45c5-9980-399e6bce0bd3",
   "metadata": {
    "execution": {
     "iopub.execute_input": "2022-08-05T17:58:39.064233Z",
     "iopub.status.busy": "2022-08-05T17:58:39.063898Z",
     "iopub.status.idle": "2022-08-05T17:58:39.992081Z",
     "shell.execute_reply": "2022-08-05T17:58:39.991522Z",
     "shell.execute_reply.started": "2022-08-05T17:58:39.064209Z"
    },
    "tags": []
   },
   "outputs": [],
   "source": [
    "client = from_uri(\"https://aimm.lbl.gov/api\")\n",
    "view = client['dataset']['newville']['uid'][\"tFrGpD3A8BX\"]"
   ]
  },
  {
   "cell_type": "code",
   "execution_count": null,
   "id": "c1d299f8-5aaa-4835-9708-c8cd67d6afe4",
   "metadata": {
    "tags": []
   },
   "outputs": [],
   "source": [
    "df = view.read()\n",
    "df.plot(x=\"energy\", y=[\"mutrans\", \"mufluor\", \"murefer\"])"
   ]
  },
  {
   "cell_type": "code",
   "execution_count": 130,
   "id": "ae71b7a3-7cf4-4250-90e1-65c2158a1618",
   "metadata": {
    "execution": {
     "iopub.execute_input": "2022-08-05T17:58:43.774720Z",
     "iopub.status.busy": "2022-08-05T17:58:43.774385Z",
     "iopub.status.idle": "2022-08-05T17:58:43.778403Z",
     "shell.execute_reply": "2022-08-05T17:58:43.777765Z",
     "shell.execute_reply.started": "2022-08-05T17:58:43.774696Z"
    },
    "tags": []
   },
   "outputs": [],
   "source": [
    "pull = Pull()\n",
    "shift_operator = Shift(1000)"
   ]
  },
  {
   "cell_type": "code",
   "execution_count": 131,
   "id": "3f8098a6-5f64-4aee-b580-52b7de48406f",
   "metadata": {
    "execution": {
     "iopub.execute_input": "2022-08-05T17:58:44.575972Z",
     "iopub.status.busy": "2022-08-05T17:58:44.575596Z",
     "iopub.status.idle": "2022-08-05T17:58:44.761570Z",
     "shell.execute_reply": "2022-08-05T17:58:44.761033Z",
     "shell.execute_reply.started": "2022-08-05T17:58:44.575949Z"
    },
    "tags": []
   },
   "outputs": [],
   "source": [
    "data_dict = pull(view)\n",
    "new_dict = shift_operator(data_dict)"
   ]
  },
  {
   "cell_type": "code",
   "execution_count": null,
   "id": "a73c3d13-1e24-497e-8848-685387e8ba31",
   "metadata": {
    "tags": []
   },
   "outputs": [],
   "source": [
    "new_dict[\"data\"].plot(x=\"energy\", y=[\"mutrans\", \"mufluor\", \"murefer\"])"
   ]
  },
  {
   "cell_type": "code",
   "execution_count": null,
   "id": "bfa43ebd-7110-477d-8502-ae3bd1a274e6",
   "metadata": {
    "tags": []
   },
   "outputs": [],
   "source": [
    "new_dict[\"metadata\"][\"post_processing\"]"
   ]
  },
  {
   "cell_type": "code",
   "execution_count": null,
   "id": "cb5e54db-2aa7-4820-9898-9b3baeeb60dc",
   "metadata": {},
   "outputs": [],
   "source": []
  }
 ],
 "metadata": {
  "kernelspec": {
   "display_name": "Python 3 (ipykernel)",
   "language": "python",
   "name": "python3"
  },
  "language_info": {
   "codemirror_mode": {
    "name": "ipython",
    "version": 3
   },
   "file_extension": ".py",
   "mimetype": "text/x-python",
   "name": "python",
   "nbconvert_exporter": "python",
   "pygments_lexer": "ipython3",
   "version": "3.9.7"
  }
 },
 "nbformat": 4,
 "nbformat_minor": 5
}
