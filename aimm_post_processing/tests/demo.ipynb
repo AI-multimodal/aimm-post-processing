{
 "cells": [
  {
   "cell_type": "markdown",
   "id": "c62dd131-a690-4610-9f56-84cb610cf317",
   "metadata": {
    "tags": []
   },
   "source": [
    "# AIMM post processing package\n",
    "To install the package, \n",
    "\n",
    "`git clone git@github.com:zhul9311/aimm-post-processing.git`\n",
    "\n",
    "In the package folder, run\n",
    "\n",
    " `python setup.py develop`"
   ]
  },
  {
   "cell_type": "code",
   "execution_count": 1,
   "id": "c2347b3d-9feb-4cb2-b976-6b2717bfa4b7",
   "metadata": {
    "execution": {
     "iopub.execute_input": "2022-08-05T15:28:30.421339Z",
     "iopub.status.busy": "2022-08-05T15:28:30.421166Z",
     "iopub.status.idle": "2022-08-05T15:28:31.372749Z",
     "shell.execute_reply": "2022-08-05T15:28:31.372239Z",
     "shell.execute_reply.started": "2022-08-05T15:28:30.421292Z"
    },
    "tags": []
   },
   "outputs": [],
   "source": [
    "# from os import remove\n",
    "# from numpy import identity\n",
    "import sys\n",
    "import tiled\n",
    "from tiled.client import from_uri\n",
    "from aimm_post_processing.operations import (\n",
    "    Pull,\n",
    "    Identity,\n",
    "    RemoveBackground, \n",
    "    StandardizeGrid,\n",
    "    StandardizeIntensity\n",
    ")\n",
    "from aimm_post_processing.pipeline import Pipeline\n",
    "\n",
    "%reload_ext autoreload\n",
    "%autoreload 1\n",
    "%aimport aimm_post_processing.pipeline\n",
    "%aimport aimm_post_processing.operations\n",
    "%aimport isstools.xasproject.xasproject"
   ]
  },
  {
   "cell_type": "code",
   "execution_count": 100,
   "id": "7a31fe9b-eedf-44fb-8c1c-f0e679f035eb",
   "metadata": {
    "execution": {
     "iopub.execute_input": "2022-08-05T17:53:43.908333Z",
     "iopub.status.busy": "2022-08-05T17:53:43.907998Z",
     "iopub.status.idle": "2022-08-05T17:53:44.814281Z",
     "shell.execute_reply": "2022-08-05T17:53:44.813689Z",
     "shell.execute_reply.started": "2022-08-05T17:53:43.908310Z"
    },
    "tags": []
   },
   "outputs": [],
   "source": [
    "client = from_uri(\"https://aimm.lbl.gov/api\")\n",
    "view = client['dataset']['newville']['uid'][\"tFrGpD3A8BX\"]"
   ]
  },
  {
   "cell_type": "code",
   "execution_count": 106,
   "id": "9d893894-56fa-43b5-a1b6-015f60a683e7",
   "metadata": {
    "execution": {
     "iopub.execute_input": "2022-08-05T17:54:44.744175Z",
     "iopub.status.busy": "2022-08-05T17:54:44.743970Z",
     "iopub.status.idle": "2022-08-05T17:54:44.749444Z",
     "shell.execute_reply": "2022-08-05T17:54:44.748981Z",
     "shell.execute_reply.started": "2022-08-05T17:54:44.744153Z"
    },
    "tags": []
   },
   "outputs": [
    {
     "data": {
      "text/plain": [
       "{'_tiled': {'uid': 'tFrGpD3A8BX'},\n",
       " 'beamline': {'name': 'SSRL 4-3'},\n",
       " 'column': {'1': 'energy eV',\n",
       "            '2': 'mutrans',\n",
       "            '3': 'mufluor',\n",
       "            '4': 'murefer',\n",
       "            '5': 'i0'},\n",
       " 'comments': '#    Note: mono d_spacing is nominal!\\n',\n",
       " 'dataset': 'newville',\n",
       " 'detector': {'I0': 'N2 15cm',\n",
       "              'I1': 'N2+Ar 30cm',\n",
       "              'I2': 'Ar',\n",
       "              'If': 'Ar (Lytle detector, using Rb filter)'},\n",
       " 'element': {'edge': 'K', 'symbol': 'Sr'},\n",
       " 'extra_version': 'EXAFS',\n",
       " 'measurement_type': 'xas',\n",
       " 'mono': {'d_spacing': '1.920128',\n",
       "          'name': 'Si(220)',\n",
       "          'notes': '(?) unfocussed, detuned 50%, clockwise at E=17000eV'},\n",
       " 'sample': {'formula': 'SrTiO3',\n",
       "            'name': 'strontium titanate',\n",
       "            'prep': 'powder',\n",
       "            'reference': 'SrCO3',\n",
       "            'temperature': 'room temperature',\n",
       "            'uid': 'tRXudRtJTio'},\n",
       " 'sample_id': 'tRXudRtJTio',\n",
       " 'scan': {'start_time': '1995-06-14 20:43:05'},\n",
       " 'xdi_version': '1.0'}"
      ]
     },
     "execution_count": 106,
     "metadata": {},
     "output_type": "execute_result"
    }
   ],
   "source": [
    "view.metadata"
   ]
  },
  {
   "cell_type": "code",
   "execution_count": 102,
   "id": "50210ed3-c8c6-4a4f-b1d6-610df35fe029",
   "metadata": {
    "execution": {
     "iopub.execute_input": "2022-08-05T17:53:51.996781Z",
     "iopub.status.busy": "2022-08-05T17:53:51.996445Z",
     "iopub.status.idle": "2022-08-05T17:53:52.000424Z",
     "shell.execute_reply": "2022-08-05T17:53:51.999794Z",
     "shell.execute_reply.started": "2022-08-05T17:53:51.996758Z"
    },
    "tags": []
   },
   "outputs": [],
   "source": [
    "pull = Pull()"
   ]
  },
  {
   "cell_type": "code",
   "execution_count": 103,
   "id": "65b8de61-3883-4c2d-9724-de0e39ca03a1",
   "metadata": {
    "execution": {
     "iopub.execute_input": "2022-08-05T17:53:52.319479Z",
     "iopub.status.busy": "2022-08-05T17:53:52.319150Z",
     "iopub.status.idle": "2022-08-05T17:53:52.722302Z",
     "shell.execute_reply": "2022-08-05T17:53:52.721704Z",
     "shell.execute_reply.started": "2022-08-05T17:53:52.319457Z"
    },
    "tags": []
   },
   "outputs": [],
   "source": [
    "df_ = pull(view)[\"data\"]"
   ]
  },
  {
   "cell_type": "code",
   "execution_count": 105,
   "id": "34df93d2-ee81-489e-8a3f-8a61241d203e",
   "metadata": {
    "execution": {
     "iopub.execute_input": "2022-08-05T17:54:24.480708Z",
     "iopub.status.busy": "2022-08-05T17:54:24.480504Z",
     "iopub.status.idle": "2022-08-05T17:54:24.565656Z",
     "shell.execute_reply": "2022-08-05T17:54:24.565283Z",
     "shell.execute_reply.started": "2022-08-05T17:54:24.480686Z"
    }
   },
   "outputs": [
    {
     "data": {
      "text/plain": [
       "<AxesSubplot:xlabel='energy'>"
      ]
     },
     "execution_count": 105,
     "metadata": {},
     "output_type": "execute_result"
    },
    {
     "data": {
      "image/png": "[encoded data removed]",
      "text/plain": [
       "<Figure size 432x288 with 1 Axes>"
      ]
     },
     "metadata": {
      "needs_background": "light"
     },
     "output_type": "display_data"
    }
   ],
   "source": [
    "df_.plot(x=\"energy\", y=[\"mutrans\", \"mufluor\", \"murefer\"])"
   ]
  },
  {
   "cell_type": "markdown",
   "id": "6a89c9be-bbb0-443e-a1af-5ae12108ea47",
   "metadata": {
    "tags": []
   },
   "source": [
    "# Operation Chains"
   ]
  },
  {
   "cell_type": "code",
   "execution_count": 111,
   "id": "4fb36f06-6f7c-48f4-ad15-5744e47e73e9",
   "metadata": {
    "execution": {
     "iopub.execute_input": "2022-08-05T17:55:38.124943Z",
     "iopub.status.busy": "2022-08-05T17:55:38.124605Z",
     "iopub.status.idle": "2022-08-05T17:55:38.130516Z",
     "shell.execute_reply": "2022-08-05T17:55:38.130018Z",
     "shell.execute_reply.started": "2022-08-05T17:55:38.124920Z"
    },
    "tags": []
   },
   "outputs": [],
   "source": [
    "pull = Pull()\n",
    "identity = Identity()\n",
    "standardizegrid = StandardizeGrid(\n",
    "    x0=15700, \n",
    "    xf=17000, \n",
    "    nx=1301,\n",
    "    x_column=\"energy\",\n",
    "    y_columns=[\"mutrans\", \"mufluor\", \"murefer\"]\n",
    ")\n",
    "removebackground = RemoveBackground(\n",
    "    x0=15700, \n",
    "    xf=15800, \n",
    "    x_column=\"energy\",\n",
    "    y_columns=[\"mutrans\", \"mufluor\", \"murefer\"],\n",
    "    victoreen_order=0\n",
    ")\n",
    "standardizeintensity = StandardizeIntensity(\n",
    "    x0=15700,\n",
    "    xf=15800,\n",
    "    x_column=\"energy\",\n",
    "    y_columns=[\"mutrans\", \"mufluor\", \"murefer\"]\n",
    ")"
   ]
  },
  {
   "cell_type": "code",
   "execution_count": 112,
   "id": "028c2bec-d888-401c-a01b-2e24181b9d56",
   "metadata": {
    "execution": {
     "iopub.execute_input": "2022-08-05T17:55:39.142889Z",
     "iopub.status.busy": "2022-08-05T17:55:39.142551Z",
     "iopub.status.idle": "2022-08-05T17:55:39.146633Z",
     "shell.execute_reply": "2022-08-05T17:55:39.146010Z",
     "shell.execute_reply.started": "2022-08-05T17:55:39.142866Z"
    },
    "tags": []
   },
   "outputs": [],
   "source": [
    "pipe0 = Pipeline(\n",
    "    [\n",
    "        pull,\n",
    "        standardizegrid,\n",
    "        removebackground\n",
    "    ]\n",
    ")"
   ]
  },
  {
   "cell_type": "code",
   "execution_count": 113,
   "id": "c2c4df2e-ccf4-4404-84ea-a361ea28bf6b",
   "metadata": {
    "execution": {
     "iopub.execute_input": "2022-08-05T17:55:39.328693Z",
     "iopub.status.busy": "2022-08-05T17:55:39.328356Z",
     "iopub.status.idle": "2022-08-05T17:55:39.769008Z",
     "shell.execute_reply": "2022-08-05T17:55:39.768467Z",
     "shell.execute_reply.started": "2022-08-05T17:55:39.328669Z"
    },
    "tags": []
   },
   "outputs": [],
   "source": [
    "d = pipe0.run(view)"
   ]
  },
  {
   "cell_type": "code",
   "execution_count": 115,
   "id": "6b4f2dcd-3bf8-421f-a7be-3e32c89388ad",
   "metadata": {
    "execution": {
     "iopub.execute_input": "2022-08-05T17:55:58.660011Z",
     "iopub.status.busy": "2022-08-05T17:55:58.659680Z",
     "iopub.status.idle": "2022-08-05T17:55:58.744556Z",
     "shell.execute_reply": "2022-08-05T17:55:58.744115Z",
     "shell.execute_reply.started": "2022-08-05T17:55:58.659988Z"
    },
    "tags": []
   },
   "outputs": [
    {
     "data": {
      "text/plain": [
       "<AxesSubplot:xlabel='energy'>"
      ]
     },
     "execution_count": 115,
     "metadata": {},
     "output_type": "execute_result"
    },
    {
     "data": {
      "image/png": "[encoded data removed]",
      "text/plain": [
       "<Figure size 432x288 with 1 Axes>"
      ]
     },
     "metadata": {
      "needs_background": "light"
     },
     "output_type": "display_data"
    }
   ],
   "source": [
    "d[\"data\"].plot(x=\"energy\", y=[\"mutrans\", \"mufluor\", \"murefer\"])"
   ]
  },
  {
   "cell_type": "code",
   "execution_count": 117,
   "id": "e4e6187c-cd0e-4824-9dea-72e79c6c5760",
   "metadata": {
    "execution": {
     "iopub.execute_input": "2022-08-05T17:57:06.838106Z",
     "iopub.status.busy": "2022-08-05T17:57:06.837751Z",
     "iopub.status.idle": "2022-08-05T17:57:06.844439Z",
     "shell.execute_reply": "2022-08-05T17:57:06.843916Z",
     "shell.execute_reply.started": "2022-08-05T17:57:06.838083Z"
    },
    "tags": []
   },
   "outputs": [
    {
     "data": {
      "text/plain": [
       "{0: {'id': '809204c7-fd39-443f-8cbf-334d79bb99bc',\n",
       "  'parent': 'tFrGpD3A8BX',\n",
       "  'operator': {'@module': 'aimm_post_processing.operations',\n",
       "   '@class': 'Pull',\n",
       "   '@version': '0.post30.dev0+gc39a006'},\n",
       "  'kwargs': {'x_column': 'energy',\n",
       "   'y_columns': ['mu'],\n",
       "   'operator_id': 'bacfa93b-b113-4025-9eed-0aec5398d901'},\n",
       "  'datetime': '2022-08-05 17:55:39 UTC'},\n",
       " 1: {'id': '7ab79a64-91d9-4d61-8689-7d592005fa9e',\n",
       "  'parent': '809204c7-fd39-443f-8cbf-334d79bb99bc',\n",
       "  'operator': {'@module': 'aimm_post_processing.operations',\n",
       "   '@class': 'StandardizeGrid',\n",
       "   '@version': '0.post30.dev0+gc39a006',\n",
       "   'x0': 15700,\n",
       "   'xf': 17000,\n",
       "   'nx': 1301,\n",
       "   'interpolated_univariate_spline_kwargs': {},\n",
       "   'x_column': 'energy',\n",
       "   'y_columns': ['mutrans', 'mufluor', 'murefer']},\n",
       "  'kwargs': {'x_column': 'energy',\n",
       "   'y_columns': ['mutrans', 'mufluor', 'murefer'],\n",
       "   'operator_id': '808fdc46-3eb9-4404-ad07-9802f3cca0ab',\n",
       "   'x0': 15700,\n",
       "   'xf': 17000,\n",
       "   'nx': 1301,\n",
       "   'interpolated_univariate_spline_kwargs': {}},\n",
       "  'datetime': '2022-08-05 17:55:39 UTC'},\n",
       " 2: {'id': '682ebd7f-8549-4654-9750-bcaee3902c98',\n",
       "  'parent': '7ab79a64-91d9-4d61-8689-7d592005fa9e',\n",
       "  'operator': {'@module': 'aimm_post_processing.operations',\n",
       "   '@class': 'RemoveBackground',\n",
       "   '@version': '0.post30.dev0+gc39a006'},\n",
       "  'kwargs': {'x_column': 'energy',\n",
       "   'y_columns': ['mutrans', 'mufluor', 'murefer'],\n",
       "   'operator_id': 'e6583f50-61e7-49e4-abd5-7da6cad0ee7e',\n",
       "   'x0': 15700,\n",
       "   'xf': 15800,\n",
       "   'victoreen_order': 0},\n",
       "  'datetime': '2022-08-05 17:55:39 UTC'}}"
      ]
     },
     "execution_count": 117,
     "metadata": {},
     "output_type": "execute_result"
    }
   ],
   "source": [
    "d[\"metadata\"][\"post_processing\"]"
   ]
  },
  {
   "cell_type": "code",
   "execution_count": 118,
   "id": "1da2a85e-acf0-4243-af01-bd000d6c9547",
   "metadata": {
    "execution": {
     "iopub.execute_input": "2022-08-05T17:57:14.481832Z",
     "iopub.status.busy": "2022-08-05T17:57:14.481486Z",
     "iopub.status.idle": "2022-08-05T17:57:14.485715Z",
     "shell.execute_reply": "2022-08-05T17:57:14.485176Z",
     "shell.execute_reply.started": "2022-08-05T17:57:14.481793Z"
    },
    "tags": []
   },
   "outputs": [],
   "source": [
    "pipe1 = Pipeline(\n",
    "    [\n",
    "        identity,\n",
    "        standardizegrid,\n",
    "        standardizeintensity\n",
    "    ]\n",
    ")"
   ]
  },
  {
   "cell_type": "code",
   "execution_count": 119,
   "id": "6d4c5fd5-c4c8-4f4a-ada7-1621ca72c96e",
   "metadata": {
    "execution": {
     "iopub.execute_input": "2022-08-05T17:57:15.900829Z",
     "iopub.status.busy": "2022-08-05T17:57:15.900497Z",
     "iopub.status.idle": "2022-08-05T17:57:15.910483Z",
     "shell.execute_reply": "2022-08-05T17:57:15.909972Z",
     "shell.execute_reply.started": "2022-08-05T17:57:15.900806Z"
    },
    "tags": []
   },
   "outputs": [],
   "source": [
    "d = pipe1.run(d)"
   ]
  },
  {
   "cell_type": "code",
   "execution_count": 120,
   "id": "bd1d48cc-46a7-45ce-9a31-3459bec23e3d",
   "metadata": {
    "execution": {
     "iopub.execute_input": "2022-08-05T17:57:20.101651Z",
     "iopub.status.busy": "2022-08-05T17:57:20.101320Z",
     "iopub.status.idle": "2022-08-05T17:57:20.188530Z",
     "shell.execute_reply": "2022-08-05T17:57:20.188098Z",
     "shell.execute_reply.started": "2022-08-05T17:57:20.101628Z"
    },
    "tags": []
   },
   "outputs": [
    {
     "data": {
      "text/plain": [
       "<AxesSubplot:xlabel='energy'>"
      ]
     },
     "execution_count": 120,
     "metadata": {},
     "output_type": "execute_result"
    },
    {
     "data": {
      "image/png": "[encoded data removed]",
      "text/plain": [
       "<Figure size 432x288 with 1 Axes>"
      ]
     },
     "metadata": {
      "needs_background": "light"
     },
     "output_type": "display_data"
    }
   ],
   "source": [
    "d[\"data\"].plot(x=\"energy\", y=[\"mutrans\", \"mufluor\", \"murefer\"])"
   ]
  },
  {
   "cell_type": "code",
   "execution_count": 121,
   "id": "d6156bd7-4b4f-486e-91e6-3abc6337c2e2",
   "metadata": {
    "execution": {
     "iopub.execute_input": "2022-08-05T17:57:33.935986Z",
     "iopub.status.busy": "2022-08-05T17:57:33.935650Z",
     "iopub.status.idle": "2022-08-05T17:57:33.942733Z",
     "shell.execute_reply": "2022-08-05T17:57:33.942213Z",
     "shell.execute_reply.started": "2022-08-05T17:57:33.935962Z"
    },
    "tags": []
   },
   "outputs": [
    {
     "data": {
      "text/plain": [
       "{0: {'id': '147d2527-059c-4221-a324-4e2f0aa332cc',\n",
       "  'parent': 'tFrGpD3A8BX',\n",
       "  'operator': {'@module': 'aimm_post_processing.operations',\n",
       "   '@class': 'Identity',\n",
       "   '@version': '0.post30.dev0+gc39a006'},\n",
       "  'kwargs': {'x_column': 'energy',\n",
       "   'y_columns': ['mu'],\n",
       "   'operator_id': '3fd670ab-6ef7-4712-b061-3058c0494b2c'},\n",
       "  'datetime': '2022-08-05 17:57:15 UTC'},\n",
       " 1: {'id': '0528a66a-e8d5-4032-b518-154d53aa334b',\n",
       "  'parent': '147d2527-059c-4221-a324-4e2f0aa332cc',\n",
       "  'operator': {'@module': 'aimm_post_processing.operations',\n",
       "   '@class': 'Identity',\n",
       "   '@version': '0.post30.dev0+gc39a006'},\n",
       "  'kwargs': {'x_column': 'energy',\n",
       "   'y_columns': ['mu'],\n",
       "   'operator_id': 'cfae199d-357e-4bea-8d2f-c765e3d8b00d'},\n",
       "  'datetime': '2022-08-05 17:57:15 UTC'},\n",
       " 2: {'id': 'a65d8a4f-e5f4-4d2f-89a6-364ccf07884c',\n",
       "  'parent': '0528a66a-e8d5-4032-b518-154d53aa334b',\n",
       "  'operator': {'@module': 'aimm_post_processing.operations',\n",
       "   '@class': 'StandardizeGrid',\n",
       "   '@version': '0.post30.dev0+gc39a006',\n",
       "   'x0': 15700,\n",
       "   'xf': 17000,\n",
       "   'nx': 1301,\n",
       "   'interpolated_univariate_spline_kwargs': {},\n",
       "   'x_column': 'energy',\n",
       "   'y_columns': ['mutrans', 'mufluor', 'murefer']},\n",
       "  'kwargs': {'x_column': 'energy',\n",
       "   'y_columns': ['mutrans', 'mufluor', 'murefer'],\n",
       "   'operator_id': '808fdc46-3eb9-4404-ad07-9802f3cca0ab',\n",
       "   'x0': 15700,\n",
       "   'xf': 17000,\n",
       "   'nx': 1301,\n",
       "   'interpolated_univariate_spline_kwargs': {}},\n",
       "  'datetime': '2022-08-05 17:57:15 UTC'},\n",
       " 3: {'id': 'ceb2bfc8-58c9-49a2-be69-f2567f69e50a',\n",
       "  'parent': 'a65d8a4f-e5f4-4d2f-89a6-364ccf07884c',\n",
       "  'operator': {'@module': 'aimm_post_processing.operations',\n",
       "   '@class': 'StandardizeIntensity',\n",
       "   '@version': '0.post30.dev0+gc39a006'},\n",
       "  'kwargs': {'x_column': 'energy',\n",
       "   'y_columns': ['mutrans', 'mufluor', 'murefer'],\n",
       "   'operator_id': '2081d788-9513-418e-829b-93bb6f05c63a',\n",
       "   'x0': 15700,\n",
       "   'xf': 15800},\n",
       "  'datetime': '2022-08-05 17:57:15 UTC'}}"
      ]
     },
     "execution_count": 121,
     "metadata": {},
     "output_type": "execute_result"
    }
   ],
   "source": [
    "d[\"metadata\"][\"post_processing\"]"
   ]
  },
  {
   "cell_type": "markdown",
   "id": "3d2c0957-534b-405f-945e-344ca47a0a6a",
   "metadata": {},
   "source": [
    "# Pipeline Chains"
   ]
  },
  {
   "cell_type": "code",
   "execution_count": 122,
   "id": "21f3d30f-8864-456c-9fb2-2de686ebd712",
   "metadata": {
    "execution": {
     "iopub.execute_input": "2022-08-05T17:58:11.915758Z",
     "iopub.status.busy": "2022-08-05T17:58:11.915422Z",
     "iopub.status.idle": "2022-08-05T17:58:11.919910Z",
     "shell.execute_reply": "2022-08-05T17:58:11.919380Z",
     "shell.execute_reply.started": "2022-08-05T17:58:11.915735Z"
    },
    "tags": []
   },
   "outputs": [],
   "source": [
    "pipe2 = Pipeline(\n",
    "    [\n",
    "        pull,\n",
    "        standardizegrid,\n",
    "    ]\n",
    ")\n",
    "pipe3 = Pipeline(\n",
    "    [\n",
    "        removebackground,\n",
    "        standardizeintensity\n",
    "    ]\n",
    ")\n",
    "pipe4 = pipe2 + pipe3"
   ]
  },
  {
   "cell_type": "code",
   "execution_count": 123,
   "id": "d13a2694-dadc-445d-b78a-604c3fab955a",
   "metadata": {
    "execution": {
     "iopub.execute_input": "2022-08-05T17:58:12.599279Z",
     "iopub.status.busy": "2022-08-05T17:58:12.598944Z",
     "iopub.status.idle": "2022-08-05T17:58:13.017493Z",
     "shell.execute_reply": "2022-08-05T17:58:13.016885Z",
     "shell.execute_reply.started": "2022-08-05T17:58:12.599256Z"
    },
    "tags": []
   },
   "outputs": [],
   "source": [
    "d = pipe4.run(view)"
   ]
  },
  {
   "cell_type": "code",
   "execution_count": 124,
   "id": "85b548bc-926d-4a02-954b-4ff5ff8c2b19",
   "metadata": {
    "execution": {
     "iopub.execute_input": "2022-08-05T17:58:14.868474Z",
     "iopub.status.busy": "2022-08-05T17:58:14.868139Z",
     "iopub.status.idle": "2022-08-05T17:58:14.956196Z",
     "shell.execute_reply": "2022-08-05T17:58:14.955762Z",
     "shell.execute_reply.started": "2022-08-05T17:58:14.868451Z"
    },
    "tags": []
   },
   "outputs": [
    {
     "data": {
      "text/plain": [
       "<AxesSubplot:xlabel='energy'>"
      ]
     },
     "execution_count": 124,
     "metadata": {},
     "output_type": "execute_result"
    },
    {
     "data": {
      "image/png": "[encoded data removed]",
      "text/plain": [
       "<Figure size 432x288 with 1 Axes>"
      ]
     },
     "metadata": {
      "needs_background": "light"
     },
     "output_type": "display_data"
    }
   ],
   "source": [
    "d[\"data\"].plot(x=\"energy\", y=[\"mutrans\", \"mufluor\", \"murefer\"])"
   ]
  },
  {
   "cell_type": "code",
   "execution_count": 125,
   "id": "a03cf738-d796-4740-b88d-a3504f3582b8",
   "metadata": {
    "execution": {
     "iopub.execute_input": "2022-08-05T17:58:18.520361Z",
     "iopub.status.busy": "2022-08-05T17:58:18.520026Z",
     "iopub.status.idle": "2022-08-05T17:58:18.527210Z",
     "shell.execute_reply": "2022-08-05T17:58:18.526690Z",
     "shell.execute_reply.started": "2022-08-05T17:58:18.520338Z"
    },
    "tags": []
   },
   "outputs": [
    {
     "data": {
      "text/plain": [
       "{0: {'id': '879b3732-8bea-4616-a47d-0357bd53efbe',\n",
       "  'parent': 'tFrGpD3A8BX',\n",
       "  'operator': {'@module': 'aimm_post_processing.operations',\n",
       "   '@class': 'Pull',\n",
       "   '@version': '0.post30.dev0+gc39a006'},\n",
       "  'kwargs': {'x_column': 'energy',\n",
       "   'y_columns': ['mu'],\n",
       "   'operator_id': 'bacfa93b-b113-4025-9eed-0aec5398d901'},\n",
       "  'datetime': '2022-08-05 17:58:12 UTC'},\n",
       " 1: {'id': '7c9885c0-b7ee-4bc4-964c-568bc5d60e8a',\n",
       "  'parent': '879b3732-8bea-4616-a47d-0357bd53efbe',\n",
       "  'operator': {'@module': 'aimm_post_processing.operations',\n",
       "   '@class': 'StandardizeGrid',\n",
       "   '@version': '0.post30.dev0+gc39a006',\n",
       "   'x0': 15700,\n",
       "   'xf': 17000,\n",
       "   'nx': 1301,\n",
       "   'interpolated_univariate_spline_kwargs': {},\n",
       "   'x_column': 'energy',\n",
       "   'y_columns': ['mutrans', 'mufluor', 'murefer']},\n",
       "  'kwargs': {'x_column': 'energy',\n",
       "   'y_columns': ['mutrans', 'mufluor', 'murefer'],\n",
       "   'operator_id': '808fdc46-3eb9-4404-ad07-9802f3cca0ab',\n",
       "   'x0': 15700,\n",
       "   'xf': 17000,\n",
       "   'nx': 1301,\n",
       "   'interpolated_univariate_spline_kwargs': {}},\n",
       "  'datetime': '2022-08-05 17:58:13 UTC'},\n",
       " 2: {'id': 'e18e4c91-8c4e-499d-8ce5-dfa682f3a93f',\n",
       "  'parent': '7c9885c0-b7ee-4bc4-964c-568bc5d60e8a',\n",
       "  'operator': {'@module': 'aimm_post_processing.operations',\n",
       "   '@class': 'RemoveBackground',\n",
       "   '@version': '0.post30.dev0+gc39a006'},\n",
       "  'kwargs': {'x_column': 'energy',\n",
       "   'y_columns': ['mutrans', 'mufluor', 'murefer'],\n",
       "   'operator_id': 'e6583f50-61e7-49e4-abd5-7da6cad0ee7e',\n",
       "   'x0': 15700,\n",
       "   'xf': 15800,\n",
       "   'victoreen_order': 0},\n",
       "  'datetime': '2022-08-05 17:58:13 UTC'},\n",
       " 3: {'id': 'e059cfee-cddf-49cb-9864-72c05cb52c8c',\n",
       "  'parent': 'e18e4c91-8c4e-499d-8ce5-dfa682f3a93f',\n",
       "  'operator': {'@module': 'aimm_post_processing.operations',\n",
       "   '@class': 'StandardizeIntensity',\n",
       "   '@version': '0.post30.dev0+gc39a006'},\n",
       "  'kwargs': {'x_column': 'energy',\n",
       "   'y_columns': ['mutrans', 'mufluor', 'murefer'],\n",
       "   'operator_id': '2081d788-9513-418e-829b-93bb6f05c63a',\n",
       "   'x0': 15700,\n",
       "   'xf': 15800},\n",
       "  'datetime': '2022-08-05 17:58:13 UTC'}}"
      ]
     },
     "execution_count": 125,
     "metadata": {},
     "output_type": "execute_result"
    }
   ],
   "source": [
    "d[\"metadata\"][\"post_processing\"]"
   ]
  },
  {
   "cell_type": "markdown",
   "id": "e5063208-f501-4e01-91fe-d7ccd38ac10d",
   "metadata": {},
   "source": [
    "# User-defined operator"
   ]
  },
  {
   "cell_type": "code",
   "execution_count": 126,
   "id": "aed55006-d1cf-4f9a-82de-b3723c8426ef",
   "metadata": {
    "execution": {
     "iopub.execute_input": "2022-08-05T17:58:21.125939Z",
     "iopub.status.busy": "2022-08-05T17:58:21.125633Z",
     "iopub.status.idle": "2022-08-05T17:58:21.133351Z",
     "shell.execute_reply": "2022-08-05T17:58:21.132682Z",
     "shell.execute_reply.started": "2022-08-05T17:58:21.125914Z"
    },
    "tags": []
   },
   "outputs": [],
   "source": [
    "# All operators are defined based on Operator class\n",
    "from aimm_post_processing.operations import Operator\n",
    "\n",
    "\n",
    "### The template for creating user-defined operator ### \n",
    "class MyOperator(Operator):\n",
    "    # Replace `MyOperaor` with your favorate name.\n",
    "    def __init__(self, *args, **kwargs):\n",
    "        super().__init__(*args, **kwargs) \n",
    "        # *args and **kwargs are user defined parameters needed for the operator.\n",
    "        # all extra args and kwargs must also defined as local attributes if you want\n",
    "        # to use them in `_process_data` function.\n",
    "        # E.g. If you have __init__(self, x, y=5, x_column=\"energy\", y_columns=[\"mu\"])\n",
    "        #      in definition, you must also have self.x = x and self.y = y\n",
    "        #      \"x_column\" and \"y_columns\" ar already implemented automatically, so you\n",
    "        #.     don't need to worry about them.\n",
    "\n",
    "    def _process_data(self, df):\n",
    "        \"\"\"\n",
    "        Parameters\n",
    "        ----------\n",
    "        df : pandas.DataFrame\n",
    "            The dataframe that has columns such as \"energy\", \"mu\", etc.\n",
    "\n",
    "        Returns\n",
    "        -------\n",
    "        df : pandas.DataFrame\n",
    "            Processed dataframe\n",
    "        \"\"\"\n",
    "        ### Write your code here ###\n",
    "        \n",
    "        new_df = df # this line is to be replaced\n",
    "        \n",
    "        return new_df\n",
    "\n",
    "\n",
    "### An example implementation ###\n",
    "\n",
    "class Shift(Operator):\n",
    "    \"\"\"This example shifts the energy grid by x\n",
    "    \"\"\"\n",
    "    def __init__(self, x, x_column=\"energy\", y_columns=[\"mu\"]):\n",
    "        super().__init__(x_column, y_columns)\n",
    "        self.x = x # must have this line.\n",
    "        \n",
    "    def _process_data(self, df):\n",
    "        shift = self.x\n",
    "        energy_grid = df[self.x_column]\n",
    "        df[self.x_column] = energy_grid + shift\n",
    "        return df"
   ]
  },
  {
   "cell_type": "code",
   "execution_count": 128,
   "id": "d448fea2-f386-45c5-9980-399e6bce0bd3",
   "metadata": {
    "execution": {
     "iopub.execute_input": "2022-08-05T17:58:39.064233Z",
     "iopub.status.busy": "2022-08-05T17:58:39.063898Z",
     "iopub.status.idle": "2022-08-05T17:58:39.992081Z",
     "shell.execute_reply": "2022-08-05T17:58:39.991522Z",
     "shell.execute_reply.started": "2022-08-05T17:58:39.064209Z"
    },
    "tags": []
   },
   "outputs": [],
   "source": [
    "client = from_uri(\"https://aimm.lbl.gov/api\")\n",
    "view = client['dataset']['newville']['uid'][\"tFrGpD3A8BX\"]"
   ]
  },
  {
   "cell_type": "code",
   "execution_count": 129,
   "id": "c1d299f8-5aaa-4835-9708-c8cd67d6afe4",
   "metadata": {
    "execution": {
     "iopub.execute_input": "2022-08-05T17:58:40.943970Z",
     "iopub.status.busy": "2022-08-05T17:58:40.943563Z",
     "iopub.status.idle": "2022-08-05T17:58:41.213860Z",
     "shell.execute_reply": "2022-08-05T17:58:41.213412Z",
     "shell.execute_reply.started": "2022-08-05T17:58:40.943947Z"
    },
    "tags": []
   },
   "outputs": [
    {
     "data": {
      "text/plain": [
       "<AxesSubplot:xlabel='energy'>"
      ]
     },
     "execution_count": 129,
     "metadata": {},
     "output_type": "execute_result"
    },
    {
     "data": {
      "image/png": "[encoded data removed]",
      "text/plain": [
       "<Figure size 432x288 with 1 Axes>"
      ]
     },
     "metadata": {
      "needs_background": "light"
     },
     "output_type": "display_data"
    }
   ],
   "source": [
    "df = view.read()\n",
    "df.plot(x=\"energy\", y=[\"mutrans\", \"mufluor\", \"murefer\"])"
   ]
  },
  {
   "cell_type": "code",
   "execution_count": 130,
   "id": "ae71b7a3-7cf4-4250-90e1-65c2158a1618",
   "metadata": {
    "execution": {
     "iopub.execute_input": "2022-08-05T17:58:43.774720Z",
     "iopub.status.busy": "2022-08-05T17:58:43.774385Z",
     "iopub.status.idle": "2022-08-05T17:58:43.778403Z",
     "shell.execute_reply": "2022-08-05T17:58:43.777765Z",
     "shell.execute_reply.started": "2022-08-05T17:58:43.774696Z"
    },
    "tags": []
   },
   "outputs": [],
   "source": [
    "pull = Pull()\n",
    "shift_operator = Shift(1000)"
   ]
  },
  {
   "cell_type": "code",
   "execution_count": 131,
   "id": "3f8098a6-5f64-4aee-b580-52b7de48406f",
   "metadata": {
    "execution": {
     "iopub.execute_input": "2022-08-05T17:58:44.575972Z",
     "iopub.status.busy": "2022-08-05T17:58:44.575596Z",
     "iopub.status.idle": "2022-08-05T17:58:44.761570Z",
     "shell.execute_reply": "2022-08-05T17:58:44.761033Z",
     "shell.execute_reply.started": "2022-08-05T17:58:44.575949Z"
    },
    "tags": []
   },
   "outputs": [],
   "source": [
    "data_dict = pull(view)\n",
    "new_dict = shift_operator(data_dict)"
   ]
  },
  {
   "cell_type": "code",
   "execution_count": 132,
   "id": "a73c3d13-1e24-497e-8848-685387e8ba31",
   "metadata": {
    "execution": {
     "iopub.execute_input": "2022-08-05T17:58:45.665651Z",
     "iopub.status.busy": "2022-08-05T17:58:45.665254Z",
     "iopub.status.idle": "2022-08-05T17:58:45.749096Z",
     "shell.execute_reply": "2022-08-05T17:58:45.748662Z",
     "shell.execute_reply.started": "2022-08-05T17:58:45.665627Z"
    },
    "tags": []
   },
   "outputs": [
    {
     "data": {
      "text/plain": [
       "<AxesSubplot:xlabel='energy'>"
      ]
     },
     "execution_count": 132,
     "metadata": {},
     "output_type": "execute_result"
    },
    {
     "data": {
      "image/png": "[encoded data removed]",
      "text/plain": [
       "<Figure size 432x288 with 1 Axes>"
      ]
     },
     "metadata": {
      "needs_background": "light"
     },
     "output_type": "display_data"
    }
   ],
   "source": [
    "new_dict[\"data\"].plot(x=\"energy\", y=[\"mutrans\", \"mufluor\", \"murefer\"])"
   ]
  },
  {
   "cell_type": "code",
   "execution_count": 133,
   "id": "bfa43ebd-7110-477d-8502-ae3bd1a274e6",
   "metadata": {
    "execution": {
     "iopub.execute_input": "2022-08-05T17:58:58.673763Z",
     "iopub.status.busy": "2022-08-05T17:58:58.673445Z",
     "iopub.status.idle": "2022-08-05T17:58:58.678591Z",
     "shell.execute_reply": "2022-08-05T17:58:58.678129Z",
     "shell.execute_reply.started": "2022-08-05T17:58:58.673739Z"
    },
    "tags": []
   },
   "outputs": [
    {
     "data": {
      "text/plain": [
       "{'id': '553875d9-9f6a-47b9-818f-2564deed9887',\n",
       " 'parent': '0bf40a8f-48c5-4944-b79f-2a4e90f1b6f4',\n",
       " 'operator': {'@module': '__main__',\n",
       "  '@class': 'Shift',\n",
       "  '@version': None,\n",
       "  'x': 1000,\n",
       "  'x_column': 'energy',\n",
       "  'y_columns': ['mu']},\n",
       " 'kwargs': {'x_column': 'energy',\n",
       "  'y_columns': ['mu'],\n",
       "  'operator_id': '8af7626e-61fc-4287-bc07-31b6ac8f9726',\n",
       "  'x': 1000},\n",
       " 'datetime': '2022-08-05 17:58:44 UTC'}"
      ]
     },
     "execution_count": 133,
     "metadata": {},
     "output_type": "execute_result"
    }
   ],
   "source": [
    "new_dict[\"metadata\"][\"post_processing\"]"
   ]
  },
  {
   "cell_type": "code",
   "execution_count": null,
   "id": "cb5e54db-2aa7-4820-9898-9b3baeeb60dc",
   "metadata": {},
   "outputs": [],
   "source": []
  }
 ],
 "metadata": {
  "kernelspec": {
   "display_name": "Python 3 (ipykernel)",
   "language": "python",
   "name": "python3"
  },
  "language_info": {
   "codemirror_mode": {
    "name": "ipython",
    "version": 3
   },
   "file_extension": ".py",
   "mimetype": "text/x-python",
   "name": "python",
   "nbconvert_exporter": "python",
   "pygments_lexer": "ipython3",
   "version": "3.9.11"
  }
 },
 "nbformat": 4,
 "nbformat_minor": 5
}
