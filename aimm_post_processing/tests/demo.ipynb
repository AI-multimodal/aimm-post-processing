{
 "cells": [
  {
   "cell_type": "code",
   "execution_count": 3,
   "id": "c2347b3d-9feb-4cb2-b976-6b2717bfa4b7",
   "metadata": {
    "execution": {
     "iopub.execute_input": "2022-06-10T16:37:24.125974Z",
     "iopub.status.busy": "2022-06-10T16:37:24.125774Z",
     "iopub.status.idle": "2022-06-10T16:37:24.154090Z",
     "shell.execute_reply": "2022-06-10T16:37:24.153665Z",
     "shell.execute_reply.started": "2022-06-10T16:37:24.125952Z"
    },
    "tags": []
   },
   "outputs": [],
   "source": [
    "# from os import remove\n",
    "# from numpy import identity\n",
    "import tiled\n",
    "from tiled.client import from_uri\n",
    "from aimm_post_processing.operations import (\n",
    "    Pull,\n",
    "    Identity,\n",
    "    RemoveBackground, \n",
    "    StandardizeGrid,\n",
    "    StandardizeIntensity\n",
    ")\n",
    "from aimm_post_processing.pipeline import Pipeline\n",
    "\n",
    "%reload_ext autoreload\n",
    "%autoreload 1\n",
    "%aimport aimm_post_processing.pipeline\n",
    "%aimport aimm_post_processing.operations\n",
    "%aimport isstools.xasproject.xasproject"
   ]
  },
  {
   "cell_type": "code",
   "execution_count": 4,
   "id": "7a31fe9b-eedf-44fb-8c1c-f0e679f035eb",
   "metadata": {
    "execution": {
     "iopub.execute_input": "2022-06-10T16:37:25.267085Z",
     "iopub.status.busy": "2022-06-10T16:37:25.266875Z",
     "iopub.status.idle": "2022-06-10T16:37:26.168624Z",
     "shell.execute_reply": "2022-06-10T16:37:26.168039Z",
     "shell.execute_reply.started": "2022-06-10T16:37:25.267062Z"
    },
    "tags": []
   },
   "outputs": [],
   "source": [
    "client = from_uri(\"https://aimm.lbl.gov/api\")\n",
    "view = client['dataset']['newville']['uid']['cCv65Ngs86N']"
   ]
  },
  {
   "cell_type": "code",
   "execution_count": 35,
   "id": "e5fa5ab5-7a91-48f1-b0db-77b728711aa9",
   "metadata": {
    "execution": {
     "iopub.execute_input": "2022-06-10T17:04:31.689234Z",
     "iopub.status.busy": "2022-06-10T17:04:31.688922Z",
     "iopub.status.idle": "2022-06-10T17:04:32.176907Z",
     "shell.execute_reply": "2022-06-10T17:04:32.176468Z",
     "shell.execute_reply.started": "2022-06-10T17:04:31.689210Z"
    },
    "tags": []
   },
   "outputs": [
    {
     "data": {
      "text/plain": [
       "<AxesSubplot:xlabel='energy'>"
      ]
     },
     "execution_count": 35,
     "metadata": {},
     "output_type": "execute_result"
    },
    {
     "data": {
      "image/png": "[encoded data removed]",
      "text/plain": [
       "<Figure size 432x288 with 1 Axes>"
      ]
     },
     "metadata": {
      "needs_background": "light"
     },
     "output_type": "display_data"
    }
   ],
   "source": [
    "df = view.read()\n",
    "df.plot(x=\"energy\", y=[\"mutrans\", \"mufluor\", \"murefer\"])"
   ]
  },
  {
   "cell_type": "markdown",
   "id": "6a89c9be-bbb0-443e-a1af-5ae12108ea47",
   "metadata": {
    "tags": []
   },
   "source": [
    "# Operation Chains"
   ]
  },
  {
   "cell_type": "code",
   "execution_count": 19,
   "id": "4fb36f06-6f7c-48f4-ad15-5744e47e73e9",
   "metadata": {
    "execution": {
     "iopub.execute_input": "2022-06-10T16:40:22.320875Z",
     "iopub.status.busy": "2022-06-10T16:40:22.320210Z",
     "iopub.status.idle": "2022-06-10T16:40:22.326648Z",
     "shell.execute_reply": "2022-06-10T16:40:22.326027Z",
     "shell.execute_reply.started": "2022-06-10T16:40:22.320844Z"
    },
    "tags": []
   },
   "outputs": [],
   "source": [
    "pull = Pull()\n",
    "identity = Identity()\n",
    "standardizegrid = StandardizeGrid(\n",
    "    x0=15700, \n",
    "    xf=17000, \n",
    "    nx=1301,\n",
    "    x_column=\"energy\",\n",
    "    y_columns=[\"mutrans\", \"mufluor\", \"murefer\"]\n",
    ")\n",
    "removebackground = RemoveBackground(\n",
    "    x0=15700, \n",
    "    xf=15800, \n",
    "    x_column=\"energy\",\n",
    "    y_columns=[\"mutrans\", \"mufluor\", \"murefer\"],\n",
    "    victoreen_order=0\n",
    ")\n",
    "standardizeintensity = StandardizeIntensity(\n",
    "    x0=15700,\n",
    "    xf=15800,\n",
    "    x_column=\"energy\",\n",
    "    y_columns=[\"mutrans\", \"mufluor\", \"murefer\"]\n",
    ")"
   ]
  },
  {
   "cell_type": "code",
   "execution_count": 38,
   "id": "028c2bec-d888-401c-a01b-2e24181b9d56",
   "metadata": {
    "execution": {
     "iopub.execute_input": "2022-06-10T17:15:57.229084Z",
     "iopub.status.busy": "2022-06-10T17:15:57.228776Z",
     "iopub.status.idle": "2022-06-10T17:15:57.236943Z",
     "shell.execute_reply": "2022-06-10T17:15:57.236255Z",
     "shell.execute_reply.started": "2022-06-10T17:15:57.229059Z"
    },
    "tags": []
   },
   "outputs": [],
   "source": [
    "pipe0 = Pipeline(\n",
    "    [\n",
    "        pull,\n",
    "        standardizegrid,\n",
    "        removebackground\n",
    "    ]\n",
    ")"
   ]
  },
  {
   "cell_type": "code",
   "execution_count": 39,
   "id": "c2c4df2e-ccf4-4404-84ea-a361ea28bf6b",
   "metadata": {
    "execution": {
     "iopub.execute_input": "2022-06-10T17:15:58.280756Z",
     "iopub.status.busy": "2022-06-10T17:15:58.280500Z",
     "iopub.status.idle": "2022-06-10T17:15:58.691627Z",
     "shell.execute_reply": "2022-06-10T17:15:58.691153Z",
     "shell.execute_reply.started": "2022-06-10T17:15:58.280733Z"
    },
    "tags": []
   },
   "outputs": [],
   "source": [
    "d = pipe0.run(view)"
   ]
  },
  {
   "cell_type": "code",
   "execution_count": 40,
   "id": "6b4f2dcd-3bf8-421f-a7be-3e32c89388ad",
   "metadata": {
    "execution": {
     "iopub.execute_input": "2022-06-10T17:15:58.855454Z",
     "iopub.status.busy": "2022-06-10T17:15:58.855213Z",
     "iopub.status.idle": "2022-06-10T17:15:59.072765Z",
     "shell.execute_reply": "2022-06-10T17:15:59.072317Z",
     "shell.execute_reply.started": "2022-06-10T17:15:58.855427Z"
    },
    "tags": []
   },
   "outputs": [
    {
     "data": {
      "text/plain": [
       "<AxesSubplot:xlabel='energy'>"
      ]
     },
     "execution_count": 40,
     "metadata": {},
     "output_type": "execute_result"
    },
    {
     "data": {
      "image/png": "[encoded data removed]",
      "text/plain": [
       "<Figure size 432x288 with 1 Axes>"
      ]
     },
     "metadata": {
      "needs_background": "light"
     },
     "output_type": "display_data"
    }
   ],
   "source": [
    "d[\"data\"].plot(x=\"energy\", y=[\"mutrans\", \"mufluor\", \"murefer\"])"
   ]
  },
  {
   "cell_type": "code",
   "execution_count": 41,
   "id": "dbe6176b-820f-4cfb-a245-fec93926a9cd",
   "metadata": {
    "execution": {
     "iopub.execute_input": "2022-06-10T17:15:59.693033Z",
     "iopub.status.busy": "2022-06-10T17:15:59.692774Z",
     "iopub.status.idle": "2022-06-10T17:15:59.698397Z",
     "shell.execute_reply": "2022-06-10T17:15:59.697878Z",
     "shell.execute_reply.started": "2022-06-10T17:15:59.693009Z"
    },
    "tags": []
   },
   "outputs": [
    {
     "data": {
      "text/plain": [
       "{'_id': 'ekNDw7Dr8Ln',\n",
       " 'name': 'strontium oxide',\n",
       " 'dataset': 'newville',\n",
       " 'provenance': {'source': 'newville',\n",
       "  'url': 'https://github.com/XraySpectroscopy/XASDataLibrary',\n",
       "  'license': None,\n",
       "  'description': None},\n",
       " 'formula': 'SrO',\n",
       " 'reference': 'SrCO3',\n",
       " 'prep': 'powder',\n",
       " 'temperature': 'room temperature'}"
      ]
     },
     "execution_count": 41,
     "metadata": {},
     "output_type": "execute_result"
    }
   ],
   "source": [
    "d[\"metadata\"][\"sample\"]"
   ]
  },
  {
   "cell_type": "code",
   "execution_count": 42,
   "id": "e4e6187c-cd0e-4824-9dea-72e79c6c5760",
   "metadata": {
    "execution": {
     "iopub.execute_input": "2022-06-10T17:16:00.080310Z",
     "iopub.status.busy": "2022-06-10T17:16:00.080053Z",
     "iopub.status.idle": "2022-06-10T17:16:00.086972Z",
     "shell.execute_reply": "2022-06-10T17:16:00.086453Z",
     "shell.execute_reply.started": "2022-06-10T17:16:00.080286Z"
    },
    "tags": []
   },
   "outputs": [
    {
     "data": {
      "text/plain": [
       "{0: {'id': '2a03a91a-6e0c-4a15-b190-76f866610e22',\n",
       "  'parent': 'ekNDw7Dr8Ln',\n",
       "  'operator': {'@module': 'aimm_post_processing.operations',\n",
       "   '@class': 'Pull',\n",
       "   '@version': '0.post26.dev0+g23aac4a'},\n",
       "  'kwargs': {},\n",
       "  'datetime': '2022-06-10 17:15:58 UTC'},\n",
       " 1: {'id': '82f050c6-ed74-41cb-8ec4-30a6028aa6bb',\n",
       "  'parent': '2a03a91a-6e0c-4a15-b190-76f866610e22',\n",
       "  'operator': {'@module': 'aimm_post_processing.operations',\n",
       "   '@class': 'StandardizeGrid',\n",
       "   '@version': '0.post26.dev0+g23aac4a',\n",
       "   'x0': 15700,\n",
       "   'xf': 17000,\n",
       "   'nx': 1301,\n",
       "   'interpolated_univariate_spline_kwargs': {},\n",
       "   'x_column': 'energy',\n",
       "   'y_columns': ['mutrans', 'mufluor', 'murefer'],\n",
       "   '__class__': aimm_post_processing.operations.StandardizeGrid},\n",
       "  'kwargs': {'x0': 15700,\n",
       "   'xf': 17000,\n",
       "   'nx': 1301,\n",
       "   'interpolated_univariate_spline_kwargs': {},\n",
       "   'x_column': 'energy',\n",
       "   'y_columns': ['mutrans', 'mufluor', 'murefer'],\n",
       "   '__class__': aimm_post_processing.operations.StandardizeGrid},\n",
       "  'datetime': '2022-06-10 17:15:58 UTC'},\n",
       " 2: {'id': 'e3f1e4dd-ed54-4e01-98e1-6370d7d9d480',\n",
       "  'parent': '82f050c6-ed74-41cb-8ec4-30a6028aa6bb',\n",
       "  'operator': {'@module': 'aimm_post_processing.operations',\n",
       "   '@class': 'RemoveBackground',\n",
       "   '@version': '0.post26.dev0+g23aac4a',\n",
       "   'x0': 15700,\n",
       "   'xf': 15800,\n",
       "   'x_column': 'energy',\n",
       "   'y_columns': ['mutrans', 'mufluor', 'murefer'],\n",
       "   'victoreen_order': 0,\n",
       "   '__class__': aimm_post_processing.operations.RemoveBackground},\n",
       "  'kwargs': {'x0': 15700,\n",
       "   'xf': 15800,\n",
       "   'x_column': 'energy',\n",
       "   'y_columns': ['mutrans', 'mufluor', 'murefer'],\n",
       "   'victoreen_order': 0,\n",
       "   '__class__': aimm_post_processing.operations.RemoveBackground},\n",
       "  'datetime': '2022-06-10 17:15:58 UTC'}}"
      ]
     },
     "execution_count": 42,
     "metadata": {},
     "output_type": "execute_result"
    }
   ],
   "source": [
    "d[\"metadata\"][\"post_processing\"]"
   ]
  },
  {
   "cell_type": "code",
   "execution_count": 43,
   "id": "1da2a85e-acf0-4243-af01-bd000d6c9547",
   "metadata": {
    "execution": {
     "iopub.execute_input": "2022-06-10T17:16:09.129341Z",
     "iopub.status.busy": "2022-06-10T17:16:09.129084Z",
     "iopub.status.idle": "2022-06-10T17:16:09.133430Z",
     "shell.execute_reply": "2022-06-10T17:16:09.132809Z",
     "shell.execute_reply.started": "2022-06-10T17:16:09.129318Z"
    },
    "tags": []
   },
   "outputs": [],
   "source": [
    "pipe1 = Pipeline(\n",
    "    [\n",
    "        identity,\n",
    "        standardizegrid,\n",
    "        standardizeintensity\n",
    "    ]\n",
    ")"
   ]
  },
  {
   "cell_type": "code",
   "execution_count": 44,
   "id": "6d4c5fd5-c4c8-4f4a-ada7-1621ca72c96e",
   "metadata": {
    "execution": {
     "iopub.execute_input": "2022-06-10T17:16:13.351422Z",
     "iopub.status.busy": "2022-06-10T17:16:13.351169Z",
     "iopub.status.idle": "2022-06-10T17:16:13.361111Z",
     "shell.execute_reply": "2022-06-10T17:16:13.360693Z",
     "shell.execute_reply.started": "2022-06-10T17:16:13.351398Z"
    },
    "tags": []
   },
   "outputs": [],
   "source": [
    "d = pipe1.run(d)"
   ]
  },
  {
   "cell_type": "code",
   "execution_count": 45,
   "id": "bd1d48cc-46a7-45ce-9a31-3459bec23e3d",
   "metadata": {
    "execution": {
     "iopub.execute_input": "2022-06-10T17:16:14.172344Z",
     "iopub.status.busy": "2022-06-10T17:16:14.172088Z",
     "iopub.status.idle": "2022-06-10T17:16:14.257938Z",
     "shell.execute_reply": "2022-06-10T17:16:14.257504Z",
     "shell.execute_reply.started": "2022-06-10T17:16:14.172320Z"
    },
    "tags": []
   },
   "outputs": [
    {
     "data": {
      "text/plain": [
       "<AxesSubplot:xlabel='energy'>"
      ]
     },
     "execution_count": 45,
     "metadata": {},
     "output_type": "execute_result"
    },
    {
     "data": {
      "image/png": "[encoded data removed]",
      "text/plain": [
       "<Figure size 432x288 with 1 Axes>"
      ]
     },
     "metadata": {
      "needs_background": "light"
     },
     "output_type": "display_data"
    }
   ],
   "source": [
    "d[\"data\"].plot(x=\"energy\", y=[\"mutrans\", \"mufluor\", \"murefer\"])"
   ]
  },
  {
   "cell_type": "code",
   "execution_count": 46,
   "id": "d6156bd7-4b4f-486e-91e6-3abc6337c2e2",
   "metadata": {
    "collapsed": true,
    "execution": {
     "iopub.execute_input": "2022-06-10T17:16:16.109106Z",
     "iopub.status.busy": "2022-06-10T17:16:16.108825Z",
     "iopub.status.idle": "2022-06-10T17:16:16.115954Z",
     "shell.execute_reply": "2022-06-10T17:16:16.115499Z",
     "shell.execute_reply.started": "2022-06-10T17:16:16.109081Z"
    },
    "jupyter": {
     "outputs_hidden": true
    },
    "tags": []
   },
   "outputs": [
    {
     "data": {
      "text/plain": [
       "{0: {'id': '7be5503d-534d-499b-8e30-3c3f754c0cdc',\n",
       "  'parent': 'ekNDw7Dr8Ln',\n",
       "  'operator': {'@module': 'aimm_post_processing.operations',\n",
       "   '@class': 'Identity',\n",
       "   '@version': '0.post26.dev0+g23aac4a',\n",
       "   '__class__': aimm_post_processing.operations.Identity},\n",
       "  'kwargs': {'__class__': aimm_post_processing.operations.Identity},\n",
       "  'datetime': '2022-06-10 17:16:13 UTC'},\n",
       " 1: {'id': '5561f5c0-56af-4999-83aa-53710645b14b',\n",
       "  'parent': '7be5503d-534d-499b-8e30-3c3f754c0cdc',\n",
       "  'operator': {'@module': 'aimm_post_processing.operations',\n",
       "   '@class': 'Identity',\n",
       "   '@version': '0.post26.dev0+g23aac4a',\n",
       "   '__class__': aimm_post_processing.operations.Identity},\n",
       "  'kwargs': {'__class__': aimm_post_processing.operations.Identity},\n",
       "  'datetime': '2022-06-10 17:16:13 UTC'},\n",
       " 2: {'id': '9303b0c8-b993-41d3-818a-d4271dd978aa',\n",
       "  'parent': '5561f5c0-56af-4999-83aa-53710645b14b',\n",
       "  'operator': {'@module': 'aimm_post_processing.operations',\n",
       "   '@class': 'StandardizeGrid',\n",
       "   '@version': '0.post26.dev0+g23aac4a',\n",
       "   'x0': 15700,\n",
       "   'xf': 17000,\n",
       "   'nx': 1301,\n",
       "   'interpolated_univariate_spline_kwargs': {},\n",
       "   'x_column': 'energy',\n",
       "   'y_columns': ['mutrans', 'mufluor', 'murefer'],\n",
       "   '__class__': aimm_post_processing.operations.StandardizeGrid},\n",
       "  'kwargs': {'x0': 15700,\n",
       "   'xf': 17000,\n",
       "   'nx': 1301,\n",
       "   'interpolated_univariate_spline_kwargs': {},\n",
       "   'x_column': 'energy',\n",
       "   'y_columns': ['mutrans', 'mufluor', 'murefer'],\n",
       "   '__class__': aimm_post_processing.operations.StandardizeGrid},\n",
       "  'datetime': '2022-06-10 17:16:13 UTC'},\n",
       " 3: {'id': '9c66853c-66d7-43e8-80f0-7dfc5aefcc2a',\n",
       "  'parent': '9303b0c8-b993-41d3-818a-d4271dd978aa',\n",
       "  'operator': {'@module': 'aimm_post_processing.operations',\n",
       "   '@class': 'StandardizeIntensity',\n",
       "   '@version': '0.post26.dev0+g23aac4a',\n",
       "   'x0': 15700,\n",
       "   'xf': 15800,\n",
       "   'x_column': 'energy',\n",
       "   'y_columns': ['mutrans', 'mufluor', 'murefer'],\n",
       "   '__class__': aimm_post_processing.operations.StandardizeIntensity},\n",
       "  'kwargs': {'x0': 15700,\n",
       "   'xf': 15800,\n",
       "   'x_column': 'energy',\n",
       "   'y_columns': ['mutrans', 'mufluor', 'murefer'],\n",
       "   '__class__': aimm_post_processing.operations.StandardizeIntensity},\n",
       "  'datetime': '2022-06-10 17:16:13 UTC'}}"
      ]
     },
     "execution_count": 46,
     "metadata": {},
     "output_type": "execute_result"
    }
   ],
   "source": [
    "d[\"metadata\"][\"post_processing\"]"
   ]
  },
  {
   "cell_type": "markdown",
   "id": "3d2c0957-534b-405f-945e-344ca47a0a6a",
   "metadata": {},
   "source": [
    "# Pipeline Chains"
   ]
  },
  {
   "cell_type": "code",
   "execution_count": 13,
   "id": "21f3d30f-8864-456c-9fb2-2de686ebd712",
   "metadata": {
    "execution": {
     "iopub.execute_input": "2022-06-10T16:37:46.171175Z",
     "iopub.status.busy": "2022-06-10T16:37:46.170970Z",
     "iopub.status.idle": "2022-06-10T16:37:46.175236Z",
     "shell.execute_reply": "2022-06-10T16:37:46.174810Z",
     "shell.execute_reply.started": "2022-06-10T16:37:46.171153Z"
    },
    "tags": []
   },
   "outputs": [],
   "source": [
    "pipe2 = Pipeline(\n",
    "    [\n",
    "        pull,\n",
    "        standardizegrid,\n",
    "    ]\n",
    ")\n",
    "pipe3 = Pipeline(\n",
    "    [\n",
    "        removebackground,\n",
    "        standardizeintensity\n",
    "    ]\n",
    ")\n",
    "pipe4 = pipe2 + pipe3"
   ]
  },
  {
   "cell_type": "code",
   "execution_count": 14,
   "id": "d13a2694-dadc-445d-b78a-604c3fab955a",
   "metadata": {
    "execution": {
     "iopub.execute_input": "2022-06-10T16:37:47.454702Z",
     "iopub.status.busy": "2022-06-10T16:37:47.454452Z",
     "iopub.status.idle": "2022-06-10T16:37:47.867902Z",
     "shell.execute_reply": "2022-06-10T16:37:47.867449Z",
     "shell.execute_reply.started": "2022-06-10T16:37:47.454687Z"
    },
    "tags": []
   },
   "outputs": [],
   "source": [
    "d = pipe4.run(view)"
   ]
  },
  {
   "cell_type": "code",
   "execution_count": 15,
   "id": "85b548bc-926d-4a02-954b-4ff5ff8c2b19",
   "metadata": {
    "execution": {
     "iopub.execute_input": "2022-06-10T16:37:50.007739Z",
     "iopub.status.busy": "2022-06-10T16:37:50.007410Z",
     "iopub.status.idle": "2022-06-10T16:37:50.164854Z",
     "shell.execute_reply": "2022-06-10T16:37:50.164409Z",
     "shell.execute_reply.started": "2022-06-10T16:37:50.007716Z"
    },
    "tags": []
   },
   "outputs": [
    {
     "data": {
      "text/plain": [
       "<AxesSubplot:xlabel='energy'>"
      ]
     },
     "execution_count": 15,
     "metadata": {},
     "output_type": "execute_result"
    },
    {
     "data": {
      "image/png": "[encoded data removed]",
      "text/plain": [
       "<Figure size 432x288 with 1 Axes>"
      ]
     },
     "metadata": {
      "needs_background": "light"
     },
     "output_type": "display_data"
    }
   ],
   "source": [
    "d[\"data\"].plot(x=\"energy\", y=[\"mutrans\", \"mufluor\", \"murefer\"])"
   ]
  },
  {
   "cell_type": "code",
   "execution_count": 26,
   "id": "a03cf738-d796-4740-b88d-a3504f3582b8",
   "metadata": {
    "collapsed": true,
    "execution": {
     "iopub.execute_input": "2022-06-09T20:38:33.795277Z",
     "iopub.status.busy": "2022-06-09T20:38:33.795075Z",
     "iopub.status.idle": "2022-06-09T20:38:33.801300Z",
     "shell.execute_reply": "2022-06-09T20:38:33.800753Z",
     "shell.execute_reply.started": "2022-06-09T20:38:33.795255Z"
    },
    "jupyter": {
     "outputs_hidden": true
    },
    "tags": []
   },
   "outputs": [
    {
     "data": {
      "text/plain": [
       "{0: {'id': 'd961bba2-4847-4163-9348-b82fb4231778',\n",
       "  'parent': 'ekNDw7Dr8Ln',\n",
       "  'operator': {'@module': 'aimm_post_processing.operations',\n",
       "   '@class': 'Pull',\n",
       "   '@version': '0.post24.dev0+g044f3af'},\n",
       "  'datetime': '2022-06-09 20:38:32 UTC'},\n",
       " 1: {'id': 'b6a57c4f-e11b-4068-bce5-d72983577c13',\n",
       "  'parent': 'd961bba2-4847-4163-9348-b82fb4231778',\n",
       "  'operator': {'@module': 'aimm_post_processing.operations',\n",
       "   '@class': 'Identity',\n",
       "   '@version': '0.post24.dev0+g044f3af'},\n",
       "  'datetime': '2022-06-09 20:38:32 UTC'},\n",
       " 2: {'id': '33b32e39-6c7d-4fb4-a6e7-021821f70bf8',\n",
       "  'parent': 'b6a57c4f-e11b-4068-bce5-d72983577c13',\n",
       "  'operator': {'@module': 'aimm_post_processing.operations',\n",
       "   '@class': 'StandardizeGrid',\n",
       "   '@version': '0.post24.dev0+g044f3af',\n",
       "   'x0': 15700,\n",
       "   'xf': 17000,\n",
       "   'nx': 1301,\n",
       "   'interpolated_univariate_spline_kwargs': {},\n",
       "   'x_column': 'energy',\n",
       "   'y_columns': ['mutrans', 'mufluor', 'murefer']},\n",
       "  'datetime': '2022-06-09 20:38:32 UTC'},\n",
       " 3: {'id': '458386f3-4cbc-4056-9709-42190a41bd28',\n",
       "  'parent': '33b32e39-6c7d-4fb4-a6e7-021821f70bf8',\n",
       "  'operator': {'@module': 'aimm_post_processing.operations',\n",
       "   '@class': 'RemoveBackground',\n",
       "   '@version': '0.post24.dev0+g044f3af'},\n",
       "  'datetime': '2022-06-09 20:38:32 UTC'}}"
      ]
     },
     "execution_count": 26,
     "metadata": {},
     "output_type": "execute_result"
    }
   ],
   "source": [
    "d[\"metadata\"][\"post_processing\"]"
   ]
  }
 ],
 "metadata": {
  "kernelspec": {
   "display_name": "Python 3 (ipykernel)",
   "language": "python",
   "name": "python3"
  },
  "language_info": {
   "codemirror_mode": {
    "name": "ipython",
    "version": 3
   },
   "file_extension": ".py",
   "mimetype": "text/x-python",
   "name": "python",
   "nbconvert_exporter": "python",
   "pygments_lexer": "ipython3",
   "version": "3.9.11"
  }
 },
 "nbformat": 4,
 "nbformat_minor": 5
}
