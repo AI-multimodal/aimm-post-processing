{
 "cells": [
  {
   "cell_type": "markdown",
   "id": "c62dd131-a690-4610-9f56-84cb610cf317",
   "metadata": {},
   "source": [
    "# AIMM post processing package\n",
    "To install the package, \n",
    "\n",
    "`git clone git@github.com:zhul9311/aimm-post-processing.git`\n",
    "\n",
    "In the package folder, run\n",
    "\n",
    " `python setup.py develop`"
   ]
  },
  {
   "cell_type": "code",
   "execution_count": 18,
   "id": "c2347b3d-9feb-4cb2-b976-6b2717bfa4b7",
   "metadata": {
    "execution": {
     "iopub.execute_input": "2022-06-10T22:15:02.450334Z",
     "iopub.status.busy": "2022-06-10T22:15:02.450122Z",
     "iopub.status.idle": "2022-06-10T22:15:02.757899Z",
     "shell.execute_reply": "2022-06-10T22:15:02.757513Z",
     "shell.execute_reply.started": "2022-06-10T22:15:02.450312Z"
    },
    "tags": []
   },
   "outputs": [],
   "source": [
    "# from os import remove\n",
    "# from numpy import identity\n",
    "import tiled\n",
    "from tiled.client import from_uri\n",
    "from aimm_post_processing.operations import (\n",
    "    Pull,\n",
    "    Identity,\n",
    "    RemoveBackground, \n",
    "    StandardizeGrid,\n",
    "    StandardizeIntensity\n",
    ")\n",
    "from aimm_post_processing.pipeline import Pipeline\n",
    "\n",
    "%reload_ext autoreload\n",
    "%autoreload 1\n",
    "%aimport aimm_post_processing.pipeline\n",
    "%aimport aimm_post_processing.operations\n",
    "%aimport isstools.xasproject.xasproject"
   ]
  },
  {
   "cell_type": "code",
   "execution_count": 19,
   "id": "7a31fe9b-eedf-44fb-8c1c-f0e679f035eb",
   "metadata": {
    "execution": {
     "iopub.execute_input": "2022-06-10T22:15:03.437588Z",
     "iopub.status.busy": "2022-06-10T22:15:03.437378Z",
     "iopub.status.idle": "2022-06-10T22:15:04.388205Z",
     "shell.execute_reply": "2022-06-10T22:15:04.387628Z",
     "shell.execute_reply.started": "2022-06-10T22:15:03.437566Z"
    },
    "tags": []
   },
   "outputs": [],
   "source": [
    "client = from_uri(\"https://aimm.lbl.gov/api\")\n",
    "view = client['dataset']['newville']['uid']['cCv65Ngs86N']"
   ]
  },
  {
   "cell_type": "code",
   "execution_count": 20,
   "id": "e5fa5ab5-7a91-48f1-b0db-77b728711aa9",
   "metadata": {
    "execution": {
     "iopub.execute_input": "2022-06-10T22:15:04.869328Z",
     "iopub.status.busy": "2022-06-10T22:15:04.868998Z",
     "iopub.status.idle": "2022-06-10T22:15:05.130089Z",
     "shell.execute_reply": "2022-06-10T22:15:05.129655Z",
     "shell.execute_reply.started": "2022-06-10T22:15:04.869306Z"
    },
    "tags": []
   },
   "outputs": [
    {
     "data": {
      "text/plain": [
       "<AxesSubplot:xlabel='energy'>"
      ]
     },
     "execution_count": 20,
     "metadata": {},
     "output_type": "execute_result"
    },
    {
     "data": {
      "image/png": "[encoded data removed]",
      "text/plain": [
       "<Figure size 432x288 with 1 Axes>"
      ]
     },
     "metadata": {
      "needs_background": "light"
     },
     "output_type": "display_data"
    }
   ],
   "source": [
    "df = view.read()\n",
    "df.plot(x=\"energy\", y=[\"mutrans\", \"mufluor\", \"murefer\"])"
   ]
  },
  {
   "cell_type": "markdown",
   "id": "6a89c9be-bbb0-443e-a1af-5ae12108ea47",
   "metadata": {
    "tags": []
   },
   "source": [
    "# Operation Chains"
   ]
  },
  {
   "cell_type": "code",
   "execution_count": 21,
   "id": "4fb36f06-6f7c-48f4-ad15-5744e47e73e9",
   "metadata": {
    "execution": {
     "iopub.execute_input": "2022-06-10T22:15:08.043645Z",
     "iopub.status.busy": "2022-06-10T22:15:08.043315Z",
     "iopub.status.idle": "2022-06-10T22:15:08.049593Z",
     "shell.execute_reply": "2022-06-10T22:15:08.048967Z",
     "shell.execute_reply.started": "2022-06-10T22:15:08.043623Z"
    },
    "tags": []
   },
   "outputs": [],
   "source": [
    "pull = Pull()\n",
    "identity = Identity()\n",
    "standardizegrid = StandardizeGrid(\n",
    "    x0=15700, \n",
    "    xf=17000, \n",
    "    nx=1301,\n",
    "    x_column=\"energy\",\n",
    "    y_columns=[\"mutrans\", \"mufluor\", \"murefer\"]\n",
    ")\n",
    "removebackground = RemoveBackground(\n",
    "    x0=15700, \n",
    "    xf=15800, \n",
    "    x_column=\"energy\",\n",
    "    y_columns=[\"mutrans\", \"mufluor\", \"murefer\"],\n",
    "    victoreen_order=0\n",
    ")\n",
    "standardizeintensity = StandardizeIntensity(\n",
    "    x0=15700,\n",
    "    xf=15800,\n",
    "    x_column=\"energy\",\n",
    "    y_columns=[\"mutrans\", \"mufluor\", \"murefer\"]\n",
    ")"
   ]
  },
  {
   "cell_type": "code",
   "execution_count": 22,
   "id": "028c2bec-d888-401c-a01b-2e24181b9d56",
   "metadata": {
    "execution": {
     "iopub.execute_input": "2022-06-10T22:15:09.124689Z",
     "iopub.status.busy": "2022-06-10T22:15:09.124484Z",
     "iopub.status.idle": "2022-06-10T22:15:09.128809Z",
     "shell.execute_reply": "2022-06-10T22:15:09.128174Z",
     "shell.execute_reply.started": "2022-06-10T22:15:09.124667Z"
    },
    "tags": []
   },
   "outputs": [],
   "source": [
    "pipe0 = Pipeline(\n",
    "    [\n",
    "        pull,\n",
    "        standardizegrid,\n",
    "        removebackground\n",
    "    ]\n",
    ")"
   ]
  },
  {
   "cell_type": "code",
   "execution_count": 23,
   "id": "c2c4df2e-ccf4-4404-84ea-a361ea28bf6b",
   "metadata": {
    "execution": {
     "iopub.execute_input": "2022-06-10T22:15:09.603841Z",
     "iopub.status.busy": "2022-06-10T22:15:09.603511Z",
     "iopub.status.idle": "2022-06-10T22:15:09.788577Z",
     "shell.execute_reply": "2022-06-10T22:15:09.787987Z",
     "shell.execute_reply.started": "2022-06-10T22:15:09.603817Z"
    },
    "tags": []
   },
   "outputs": [],
   "source": [
    "d = pipe0.run(view)"
   ]
  },
  {
   "cell_type": "code",
   "execution_count": 24,
   "id": "6b4f2dcd-3bf8-421f-a7be-3e32c89388ad",
   "metadata": {
    "execution": {
     "iopub.execute_input": "2022-06-10T22:15:10.049457Z",
     "iopub.status.busy": "2022-06-10T22:15:10.049126Z",
     "iopub.status.idle": "2022-06-10T22:15:10.134226Z",
     "shell.execute_reply": "2022-06-10T22:15:10.133801Z",
     "shell.execute_reply.started": "2022-06-10T22:15:10.049434Z"
    },
    "tags": []
   },
   "outputs": [
    {
     "data": {
      "text/plain": [
       "<AxesSubplot:xlabel='energy'>"
      ]
     },
     "execution_count": 24,
     "metadata": {},
     "output_type": "execute_result"
    },
    {
     "data": {
      "image/png": "[encoded data removed]",
      "text/plain": [
       "<Figure size 432x288 with 1 Axes>"
      ]
     },
     "metadata": {
      "needs_background": "light"
     },
     "output_type": "display_data"
    }
   ],
   "source": [
    "d[\"data\"].plot(x=\"energy\", y=[\"mutrans\", \"mufluor\", \"murefer\"])"
   ]
  },
  {
   "cell_type": "code",
   "execution_count": 25,
   "id": "dbe6176b-820f-4cfb-a245-fec93926a9cd",
   "metadata": {
    "execution": {
     "iopub.execute_input": "2022-06-10T22:15:10.879233Z",
     "iopub.status.busy": "2022-06-10T22:15:10.878902Z",
     "iopub.status.idle": "2022-06-10T22:15:10.884542Z",
     "shell.execute_reply": "2022-06-10T22:15:10.884024Z",
     "shell.execute_reply.started": "2022-06-10T22:15:10.879210Z"
    },
    "tags": []
   },
   "outputs": [
    {
     "data": {
      "text/plain": [
       "{'_id': 'ekNDw7Dr8Ln',\n",
       " 'name': 'strontium oxide',\n",
       " 'dataset': 'newville',\n",
       " 'provenance': {'source': 'newville',\n",
       "  'url': 'https://github.com/XraySpectroscopy/XASDataLibrary',\n",
       "  'license': None,\n",
       "  'description': None},\n",
       " 'formula': 'SrO',\n",
       " 'reference': 'SrCO3',\n",
       " 'prep': 'powder',\n",
       " 'temperature': 'room temperature'}"
      ]
     },
     "execution_count": 25,
     "metadata": {},
     "output_type": "execute_result"
    }
   ],
   "source": [
    "d[\"metadata\"][\"sample\"]"
   ]
  },
  {
   "cell_type": "code",
   "execution_count": 27,
   "id": "e4e6187c-cd0e-4824-9dea-72e79c6c5760",
   "metadata": {
    "execution": {
     "iopub.execute_input": "2022-06-10T22:15:21.451596Z",
     "iopub.status.busy": "2022-06-10T22:15:21.451262Z",
     "iopub.status.idle": "2022-06-10T22:15:21.457961Z",
     "shell.execute_reply": "2022-06-10T22:15:21.457505Z",
     "shell.execute_reply.started": "2022-06-10T22:15:21.451571Z"
    },
    "tags": []
   },
   "outputs": [
    {
     "data": {
      "text/plain": [
       "{0: {'id': '8dffe2e4-b83c-4323-b40c-f61999e41817',\n",
       "  'parent': 'ekNDw7Dr8Ln',\n",
       "  'operator': {'@module': 'aimm_post_processing.operations',\n",
       "   '@class': 'Pull',\n",
       "   '@version': '0.post28.dev0+ga05c7d6'},\n",
       "  'kwargs': {'x_column': 'energy',\n",
       "   'y_columns': ['mu'],\n",
       "   'operator_id': 'e61efdad-e2d7-43c6-97fa-bb864287431a'},\n",
       "  'datetime': '2022-06-10 22:15:09 UTC'},\n",
       " 1: {'id': '01f6ca32-357e-4e14-8eed-0fbd7a1819f3',\n",
       "  'parent': '8dffe2e4-b83c-4323-b40c-f61999e41817',\n",
       "  'operator': {'@module': 'aimm_post_processing.operations',\n",
       "   '@class': 'StandardizeGrid',\n",
       "   '@version': '0.post28.dev0+ga05c7d6',\n",
       "   'x0': 15700,\n",
       "   'xf': 17000,\n",
       "   'nx': 1301,\n",
       "   'interpolated_univariate_spline_kwargs': {},\n",
       "   'x_column': 'energy',\n",
       "   'y_columns': ['mutrans', 'mufluor', 'murefer']},\n",
       "  'kwargs': {'x_column': 'energy',\n",
       "   'y_columns': ['mutrans', 'mufluor', 'murefer'],\n",
       "   'operator_id': '17763beb-8375-4ca2-8b2c-323879f6c9e5',\n",
       "   'x0': 15700,\n",
       "   'xf': 17000,\n",
       "   'nx': 1301,\n",
       "   'interpolated_univariate_spline_kwargs': {}},\n",
       "  'datetime': '2022-06-10 22:15:09 UTC'},\n",
       " 2: {'id': '188bbb64-083d-469d-a213-0e93486a7ec1',\n",
       "  'parent': '01f6ca32-357e-4e14-8eed-0fbd7a1819f3',\n",
       "  'operator': {'@module': 'aimm_post_processing.operations',\n",
       "   '@class': 'RemoveBackground',\n",
       "   '@version': '0.post28.dev0+ga05c7d6'},\n",
       "  'kwargs': {'x_column': 'energy',\n",
       "   'y_columns': ['mutrans', 'mufluor', 'murefer'],\n",
       "   'operator_id': 'c845503a-2c80-459c-a56f-5c1c0bce937a',\n",
       "   'x0': 15700,\n",
       "   'xf': 15800,\n",
       "   'victoreen_order': 0},\n",
       "  'datetime': '2022-06-10 22:15:09 UTC'}}"
      ]
     },
     "execution_count": 27,
     "metadata": {},
     "output_type": "execute_result"
    }
   ],
   "source": [
    "d[\"metadata\"][\"post_processing\"]"
   ]
  },
  {
   "cell_type": "code",
   "execution_count": 28,
   "id": "1da2a85e-acf0-4243-af01-bd000d6c9547",
   "metadata": {
    "execution": {
     "iopub.execute_input": "2022-06-10T22:15:22.207530Z",
     "iopub.status.busy": "2022-06-10T22:15:22.207207Z",
     "iopub.status.idle": "2022-06-10T22:15:22.211476Z",
     "shell.execute_reply": "2022-06-10T22:15:22.210891Z",
     "shell.execute_reply.started": "2022-06-10T22:15:22.207507Z"
    },
    "tags": []
   },
   "outputs": [],
   "source": [
    "pipe1 = Pipeline(\n",
    "    [\n",
    "        identity,\n",
    "        standardizegrid,\n",
    "        standardizeintensity\n",
    "    ]\n",
    ")"
   ]
  },
  {
   "cell_type": "code",
   "execution_count": 29,
   "id": "6d4c5fd5-c4c8-4f4a-ada7-1621ca72c96e",
   "metadata": {
    "execution": {
     "iopub.execute_input": "2022-06-10T22:15:23.008856Z",
     "iopub.status.busy": "2022-06-10T22:15:23.008651Z",
     "iopub.status.idle": "2022-06-10T22:15:23.017604Z",
     "shell.execute_reply": "2022-06-10T22:15:23.017092Z",
     "shell.execute_reply.started": "2022-06-10T22:15:23.008836Z"
    },
    "tags": []
   },
   "outputs": [],
   "source": [
    "d = pipe1.run(d)"
   ]
  },
  {
   "cell_type": "code",
   "execution_count": 30,
   "id": "bd1d48cc-46a7-45ce-9a31-3459bec23e3d",
   "metadata": {
    "execution": {
     "iopub.execute_input": "2022-06-10T22:15:23.482939Z",
     "iopub.status.busy": "2022-06-10T22:15:23.482611Z",
     "iopub.status.idle": "2022-06-10T22:15:23.569118Z",
     "shell.execute_reply": "2022-06-10T22:15:23.568758Z",
     "shell.execute_reply.started": "2022-06-10T22:15:23.482917Z"
    },
    "tags": []
   },
   "outputs": [
    {
     "data": {
      "text/plain": [
       "<AxesSubplot:xlabel='energy'>"
      ]
     },
     "execution_count": 30,
     "metadata": {},
     "output_type": "execute_result"
    },
    {
     "data": {
      "image/png": "[encoded data removed]",
      "text/plain": [
       "<Figure size 432x288 with 1 Axes>"
      ]
     },
     "metadata": {
      "needs_background": "light"
     },
     "output_type": "display_data"
    }
   ],
   "source": [
    "d[\"data\"].plot(x=\"energy\", y=[\"mutrans\", \"mufluor\", \"murefer\"])"
   ]
  },
  {
   "cell_type": "code",
   "execution_count": 31,
   "id": "d6156bd7-4b4f-486e-91e6-3abc6337c2e2",
   "metadata": {
    "execution": {
     "iopub.execute_input": "2022-06-10T22:15:24.752792Z",
     "iopub.status.busy": "2022-06-10T22:15:24.752425Z",
     "iopub.status.idle": "2022-06-10T22:15:24.759724Z",
     "shell.execute_reply": "2022-06-10T22:15:24.759207Z",
     "shell.execute_reply.started": "2022-06-10T22:15:24.752766Z"
    },
    "tags": []
   },
   "outputs": [
    {
     "data": {
      "text/plain": [
       "{0: {'id': '685db28b-52b2-4405-87ac-3b81111ddef1',\n",
       "  'parent': 'ekNDw7Dr8Ln',\n",
       "  'operator': {'@module': 'aimm_post_processing.operations',\n",
       "   '@class': 'Identity',\n",
       "   '@version': '0.post28.dev0+ga05c7d6'},\n",
       "  'kwargs': {'x_column': 'energy',\n",
       "   'y_columns': ['mu'],\n",
       "   'operator_id': '3b295057-981f-4ff9-8f5e-5e504e53e593'},\n",
       "  'datetime': '2022-06-10 22:15:23 UTC'},\n",
       " 1: {'id': '1b8ff48e-05f4-4686-baed-fb331a83b5f7',\n",
       "  'parent': '685db28b-52b2-4405-87ac-3b81111ddef1',\n",
       "  'operator': {'@module': 'aimm_post_processing.operations',\n",
       "   '@class': 'Identity',\n",
       "   '@version': '0.post28.dev0+ga05c7d6'},\n",
       "  'kwargs': {'x_column': 'energy',\n",
       "   'y_columns': ['mu'],\n",
       "   'operator_id': 'f66dbdf1-d8b1-4581-b4a7-ea5f9c3c8864'},\n",
       "  'datetime': '2022-06-10 22:15:23 UTC'},\n",
       " 2: {'id': '00a5b216-5d99-4ced-948c-174b2f927a3d',\n",
       "  'parent': '1b8ff48e-05f4-4686-baed-fb331a83b5f7',\n",
       "  'operator': {'@module': 'aimm_post_processing.operations',\n",
       "   '@class': 'StandardizeGrid',\n",
       "   '@version': '0.post28.dev0+ga05c7d6',\n",
       "   'x0': 15700,\n",
       "   'xf': 17000,\n",
       "   'nx': 1301,\n",
       "   'interpolated_univariate_spline_kwargs': {},\n",
       "   'x_column': 'energy',\n",
       "   'y_columns': ['mutrans', 'mufluor', 'murefer']},\n",
       "  'kwargs': {'x_column': 'energy',\n",
       "   'y_columns': ['mutrans', 'mufluor', 'murefer'],\n",
       "   'operator_id': '17763beb-8375-4ca2-8b2c-323879f6c9e5',\n",
       "   'x0': 15700,\n",
       "   'xf': 17000,\n",
       "   'nx': 1301,\n",
       "   'interpolated_univariate_spline_kwargs': {}},\n",
       "  'datetime': '2022-06-10 22:15:23 UTC'},\n",
       " 3: {'id': 'c822f5ac-23f0-4862-9a61-5dc07f166639',\n",
       "  'parent': '00a5b216-5d99-4ced-948c-174b2f927a3d',\n",
       "  'operator': {'@module': 'aimm_post_processing.operations',\n",
       "   '@class': 'StandardizeIntensity',\n",
       "   '@version': '0.post28.dev0+ga05c7d6'},\n",
       "  'kwargs': {'x_column': 'energy',\n",
       "   'y_columns': ['mutrans', 'mufluor', 'murefer'],\n",
       "   'operator_id': 'ffe26ae6-4b2a-4067-80fb-2966ecae83a1',\n",
       "   'x0': 15700,\n",
       "   'xf': 15800},\n",
       "  'datetime': '2022-06-10 22:15:23 UTC'}}"
      ]
     },
     "execution_count": 31,
     "metadata": {},
     "output_type": "execute_result"
    }
   ],
   "source": [
    "d[\"metadata\"][\"post_processing\"]"
   ]
  },
  {
   "cell_type": "markdown",
   "id": "3d2c0957-534b-405f-945e-344ca47a0a6a",
   "metadata": {},
   "source": [
    "# Pipeline Chains"
   ]
  },
  {
   "cell_type": "code",
   "execution_count": 32,
   "id": "21f3d30f-8864-456c-9fb2-2de686ebd712",
   "metadata": {
    "execution": {
     "iopub.execute_input": "2022-06-10T22:15:26.058393Z",
     "iopub.status.busy": "2022-06-10T22:15:26.058187Z",
     "iopub.status.idle": "2022-06-10T22:15:26.062998Z",
     "shell.execute_reply": "2022-06-10T22:15:26.062428Z",
     "shell.execute_reply.started": "2022-06-10T22:15:26.058372Z"
    },
    "tags": []
   },
   "outputs": [],
   "source": [
    "pipe2 = Pipeline(\n",
    "    [\n",
    "        pull,\n",
    "        standardizegrid,\n",
    "    ]\n",
    ")\n",
    "pipe3 = Pipeline(\n",
    "    [\n",
    "        removebackground,\n",
    "        standardizeintensity\n",
    "    ]\n",
    ")\n",
    "pipe4 = pipe2 + pipe3"
   ]
  },
  {
   "cell_type": "code",
   "execution_count": 33,
   "id": "d13a2694-dadc-445d-b78a-604c3fab955a",
   "metadata": {
    "execution": {
     "iopub.execute_input": "2022-06-10T22:15:26.730808Z",
     "iopub.status.busy": "2022-06-10T22:15:26.730483Z",
     "iopub.status.idle": "2022-06-10T22:15:27.147346Z",
     "shell.execute_reply": "2022-06-10T22:15:27.146775Z",
     "shell.execute_reply.started": "2022-06-10T22:15:26.730785Z"
    },
    "tags": []
   },
   "outputs": [],
   "source": [
    "d = pipe4.run(view)"
   ]
  },
  {
   "cell_type": "code",
   "execution_count": 34,
   "id": "85b548bc-926d-4a02-954b-4ff5ff8c2b19",
   "metadata": {
    "execution": {
     "iopub.execute_input": "2022-06-10T22:15:27.148605Z",
     "iopub.status.busy": "2022-06-10T22:15:27.148321Z",
     "iopub.status.idle": "2022-06-10T22:15:27.230292Z",
     "shell.execute_reply": "2022-06-10T22:15:27.229871Z",
     "shell.execute_reply.started": "2022-06-10T22:15:27.148584Z"
    },
    "tags": []
   },
   "outputs": [
    {
     "data": {
      "text/plain": [
       "<AxesSubplot:xlabel='energy'>"
      ]
     },
     "execution_count": 34,
     "metadata": {},
     "output_type": "execute_result"
    },
    {
     "data": {
      "image/png": "[encoded data removed]",
      "text/plain": [
       "<Figure size 432x288 with 1 Axes>"
      ]
     },
     "metadata": {
      "needs_background": "light"
     },
     "output_type": "display_data"
    }
   ],
   "source": [
    "d[\"data\"].plot(x=\"energy\", y=[\"mutrans\", \"mufluor\", \"murefer\"])"
   ]
  },
  {
   "cell_type": "code",
   "execution_count": 35,
   "id": "a03cf738-d796-4740-b88d-a3504f3582b8",
   "metadata": {
    "execution": {
     "iopub.execute_input": "2022-06-10T22:15:28.184684Z",
     "iopub.status.busy": "2022-06-10T22:15:28.184336Z",
     "iopub.status.idle": "2022-06-10T22:15:28.191617Z",
     "shell.execute_reply": "2022-06-10T22:15:28.191112Z",
     "shell.execute_reply.started": "2022-06-10T22:15:28.184660Z"
    },
    "tags": []
   },
   "outputs": [
    {
     "data": {
      "text/plain": [
       "{0: {'id': 'a03f9fd3-8429-4f67-8fd5-053897fbca51',\n",
       "  'parent': 'ekNDw7Dr8Ln',\n",
       "  'operator': {'@module': 'aimm_post_processing.operations',\n",
       "   '@class': 'Pull',\n",
       "   '@version': '0.post28.dev0+ga05c7d6'},\n",
       "  'kwargs': {'x_column': 'energy',\n",
       "   'y_columns': ['mu'],\n",
       "   'operator_id': 'e61efdad-e2d7-43c6-97fa-bb864287431a'},\n",
       "  'datetime': '2022-06-10 22:15:26 UTC'},\n",
       " 1: {'id': 'cb9e7676-02c6-4de2-98fb-f0fa07c08abc',\n",
       "  'parent': 'a03f9fd3-8429-4f67-8fd5-053897fbca51',\n",
       "  'operator': {'@module': 'aimm_post_processing.operations',\n",
       "   '@class': 'StandardizeGrid',\n",
       "   '@version': '0.post28.dev0+ga05c7d6',\n",
       "   'x0': 15700,\n",
       "   'xf': 17000,\n",
       "   'nx': 1301,\n",
       "   'interpolated_univariate_spline_kwargs': {},\n",
       "   'x_column': 'energy',\n",
       "   'y_columns': ['mutrans', 'mufluor', 'murefer']},\n",
       "  'kwargs': {'x_column': 'energy',\n",
       "   'y_columns': ['mutrans', 'mufluor', 'murefer'],\n",
       "   'operator_id': '17763beb-8375-4ca2-8b2c-323879f6c9e5',\n",
       "   'x0': 15700,\n",
       "   'xf': 17000,\n",
       "   'nx': 1301,\n",
       "   'interpolated_univariate_spline_kwargs': {}},\n",
       "  'datetime': '2022-06-10 22:15:27 UTC'},\n",
       " 2: {'id': 'f0eed079-f3ab-416e-bd65-98de90eff0ba',\n",
       "  'parent': 'cb9e7676-02c6-4de2-98fb-f0fa07c08abc',\n",
       "  'operator': {'@module': 'aimm_post_processing.operations',\n",
       "   '@class': 'RemoveBackground',\n",
       "   '@version': '0.post28.dev0+ga05c7d6'},\n",
       "  'kwargs': {'x_column': 'energy',\n",
       "   'y_columns': ['mutrans', 'mufluor', 'murefer'],\n",
       "   'operator_id': 'c845503a-2c80-459c-a56f-5c1c0bce937a',\n",
       "   'x0': 15700,\n",
       "   'xf': 15800,\n",
       "   'victoreen_order': 0},\n",
       "  'datetime': '2022-06-10 22:15:27 UTC'},\n",
       " 3: {'id': '306d5761-23b0-44d9-91e0-37929a5f74fd',\n",
       "  'parent': 'f0eed079-f3ab-416e-bd65-98de90eff0ba',\n",
       "  'operator': {'@module': 'aimm_post_processing.operations',\n",
       "   '@class': 'StandardizeIntensity',\n",
       "   '@version': '0.post28.dev0+ga05c7d6'},\n",
       "  'kwargs': {'x_column': 'energy',\n",
       "   'y_columns': ['mutrans', 'mufluor', 'murefer'],\n",
       "   'operator_id': 'ffe26ae6-4b2a-4067-80fb-2966ecae83a1',\n",
       "   'x0': 15700,\n",
       "   'xf': 15800},\n",
       "  'datetime': '2022-06-10 22:15:27 UTC'}}"
      ]
     },
     "execution_count": 35,
     "metadata": {},
     "output_type": "execute_result"
    }
   ],
   "source": [
    "d[\"metadata\"][\"post_processing\"]"
   ]
  },
  {
   "cell_type": "markdown",
   "id": "e5063208-f501-4e01-91fe-d7ccd38ac10d",
   "metadata": {},
   "source": [
    "# User-defined operator"
   ]
  },
  {
   "cell_type": "code",
   "execution_count": 54,
   "id": "aed55006-d1cf-4f9a-82de-b3723c8426ef",
   "metadata": {
    "execution": {
     "iopub.execute_input": "2022-06-10T22:53:59.600937Z",
     "iopub.status.busy": "2022-06-10T22:53:59.600729Z",
     "iopub.status.idle": "2022-06-10T22:54:00.436118Z",
     "shell.execute_reply": "2022-06-10T22:54:00.435524Z",
     "shell.execute_reply.started": "2022-06-10T22:53:59.600916Z"
    },
    "tags": []
   },
   "outputs": [],
   "source": [
    "# All operators are defined based on Operator class\n",
    "from aimm_post_processing.operations import Operator\n",
    "\n",
    "\n",
    "### The template for creating user-defined operator ### \n",
    "class MyOperator(Operator):\n",
    "\n",
    "    def __init__(self, *args, **kwargs):\n",
    "        super().__init__(*args, **kwargs) \n",
    "        # *args and **kwargs are customizable parameters needed for the operator.\n",
    "        # all extra parameters must be initiated to local attributes.\n",
    "\n",
    "    def _process_data(self, df):\n",
    "        \"\"\"\n",
    "        Parameters\n",
    "        ----------\n",
    "        df : pandas.DataFrame\n",
    "            The dataframe that has columns such as \"energy\", \"mu\", etc.\n",
    "\n",
    "        Returns\n",
    "        -------\n",
    "        df : pandas.DataFrame\n",
    "            Processed dataframe\n",
    "        \"\"\"\n",
    "        ### Write your code here ###\n",
    "        \n",
    "        new_df = df # this line is to be replaced\n",
    "        \n",
    "        return new_df\n",
    "\n",
    "\n",
    "### An example ###\n",
    "class Shift(Operator):\n",
    "    \"\"\"This example shifts the energy grid by x\n",
    "    \"\"\"\n",
    "    def __init__(self, x, x_column=\"energy\", y_columns=[\"mu\"]):\n",
    "        super().__init__(x_column, y_columns)\n",
    "        self.x = x\n",
    "    def _process_data(self, df):\n",
    "        shift = self.x\n",
    "        energy_grid = df[self.x_column]\n",
    "        df[self.x_column] = energy_grid + shift\n",
    "        return df"
   ]
  },
  {
   "cell_type": "code",
   "execution_count": 55,
   "id": "d448fea2-f386-45c5-9980-399e6bce0bd3",
   "metadata": {
    "execution": {
     "iopub.execute_input": "2022-06-10T22:54:01.805986Z",
     "iopub.status.busy": "2022-06-10T22:54:01.805719Z",
     "iopub.status.idle": "2022-06-10T22:54:03.005174Z",
     "shell.execute_reply": "2022-06-10T22:54:03.004591Z",
     "shell.execute_reply.started": "2022-06-10T22:54:01.805970Z"
    },
    "tags": []
   },
   "outputs": [],
   "source": [
    "client = from_uri(\"https://aimm.lbl.gov/api\")\n",
    "view = client['dataset']['newville']['uid']['cCv65Ngs86N']"
   ]
  },
  {
   "cell_type": "code",
   "execution_count": 56,
   "id": "c1d299f8-5aaa-4835-9708-c8cd67d6afe4",
   "metadata": {
    "execution": {
     "iopub.execute_input": "2022-06-10T22:54:03.006483Z",
     "iopub.status.busy": "2022-06-10T22:54:03.006206Z",
     "iopub.status.idle": "2022-06-10T22:54:03.276263Z",
     "shell.execute_reply": "2022-06-10T22:54:03.275836Z",
     "shell.execute_reply.started": "2022-06-10T22:54:03.006462Z"
    },
    "tags": []
   },
   "outputs": [
    {
     "data": {
      "text/plain": [
       "<AxesSubplot:xlabel='energy'>"
      ]
     },
     "execution_count": 56,
     "metadata": {},
     "output_type": "execute_result"
    },
    {
     "data": {
      "image/png": "[encoded data removed]",
      "text/plain": [
       "<Figure size 432x288 with 1 Axes>"
      ]
     },
     "metadata": {
      "needs_background": "light"
     },
     "output_type": "display_data"
    }
   ],
   "source": [
    "df = view.read()\n",
    "df.plot(x=\"energy\", y=[\"mutrans\", \"mufluor\", \"murefer\"])"
   ]
  },
  {
   "cell_type": "code",
   "execution_count": 57,
   "id": "ae71b7a3-7cf4-4250-90e1-65c2158a1618",
   "metadata": {
    "execution": {
     "iopub.execute_input": "2022-06-10T22:54:04.173975Z",
     "iopub.status.busy": "2022-06-10T22:54:04.173646Z",
     "iopub.status.idle": "2022-06-10T22:54:04.177903Z",
     "shell.execute_reply": "2022-06-10T22:54:04.177381Z",
     "shell.execute_reply.started": "2022-06-10T22:54:04.173952Z"
    },
    "tags": []
   },
   "outputs": [],
   "source": [
    "pull = Pull()\n",
    "shift_operator = Shift(1000)"
   ]
  },
  {
   "cell_type": "code",
   "execution_count": 58,
   "id": "3f8098a6-5f64-4aee-b580-52b7de48406f",
   "metadata": {
    "execution": {
     "iopub.execute_input": "2022-06-10T22:54:04.825813Z",
     "iopub.status.busy": "2022-06-10T22:54:04.825475Z",
     "iopub.status.idle": "2022-06-10T22:54:05.007153Z",
     "shell.execute_reply": "2022-06-10T22:54:05.006566Z",
     "shell.execute_reply.started": "2022-06-10T22:54:04.825789Z"
    },
    "tags": []
   },
   "outputs": [],
   "source": [
    "data_dict = pull(view)\n",
    "new_dict = shift_operator(data_dict)"
   ]
  },
  {
   "cell_type": "code",
   "execution_count": 59,
   "id": "a73c3d13-1e24-497e-8848-685387e8ba31",
   "metadata": {
    "execution": {
     "iopub.execute_input": "2022-06-10T22:54:05.627755Z",
     "iopub.status.busy": "2022-06-10T22:54:05.627502Z",
     "iopub.status.idle": "2022-06-10T22:54:05.709513Z",
     "shell.execute_reply": "2022-06-10T22:54:05.709082Z",
     "shell.execute_reply.started": "2022-06-10T22:54:05.627742Z"
    },
    "tags": []
   },
   "outputs": [
    {
     "data": {
      "text/plain": [
       "<AxesSubplot:xlabel='energy'>"
      ]
     },
     "execution_count": 59,
     "metadata": {},
     "output_type": "execute_result"
    },
    {
     "data": {
      "image/png": "[encoded data removed]",
      "text/plain": [
       "<Figure size 432x288 with 1 Axes>"
      ]
     },
     "metadata": {
      "needs_background": "light"
     },
     "output_type": "display_data"
    }
   ],
   "source": [
    "new_dict[\"data\"].plot(x=\"energy\", y=[\"mutrans\", \"mufluor\", \"murefer\"])"
   ]
  },
  {
   "cell_type": "code",
   "execution_count": 60,
   "id": "bfa43ebd-7110-477d-8502-ae3bd1a274e6",
   "metadata": {
    "execution": {
     "iopub.execute_input": "2022-06-10T22:54:07.361688Z",
     "iopub.status.busy": "2022-06-10T22:54:07.361352Z",
     "iopub.status.idle": "2022-06-10T22:54:07.367123Z",
     "shell.execute_reply": "2022-06-10T22:54:07.366608Z",
     "shell.execute_reply.started": "2022-06-10T22:54:07.361664Z"
    },
    "tags": []
   },
   "outputs": [
    {
     "data": {
      "text/plain": [
       "{'id': '91962b13-ea07-46f2-a163-c6039eb012a4',\n",
       " 'parent': '8dc576e4-ea57-41e5-84dc-4b2d4f9a524e',\n",
       " 'operator': {'@module': '__main__',\n",
       "  '@class': 'Shift',\n",
       "  '@version': None,\n",
       "  'x': 1000,\n",
       "  'x_column': 'energy',\n",
       "  'y_columns': ['mu']},\n",
       " 'kwargs': {'x_column': 'energy',\n",
       "  'y_columns': ['mu'],\n",
       "  'operator_id': 'b68b0993-8039-455a-a206-eb455c7fa06e',\n",
       "  'x': 1000},\n",
       " 'datetime': '2022-06-10 22:54:05 UTC'}"
      ]
     },
     "execution_count": 60,
     "metadata": {},
     "output_type": "execute_result"
    }
   ],
   "source": [
    "new_dict[\"metadata\"][\"post_processing\"]"
   ]
  },
  {
   "cell_type": "code",
   "execution_count": null,
   "id": "bf2f3421-afab-4a9b-865d-f91560ca7379",
   "metadata": {},
   "outputs": [],
   "source": []
  }
 ],
 "metadata": {
  "kernelspec": {
   "display_name": "Python 3 (ipykernel)",
   "language": "python",
   "name": "python3"
  },
  "language_info": {
   "codemirror_mode": {
    "name": "ipython",
    "version": 3
   },
   "file_extension": ".py",
   "mimetype": "text/x-python",
   "name": "python",
   "nbconvert_exporter": "python",
   "pygments_lexer": "ipython3",
   "version": "3.9.11"
  }
 },
 "nbformat": 4,
 "nbformat_minor": 5
}
